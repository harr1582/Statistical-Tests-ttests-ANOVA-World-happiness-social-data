{
  "nbformat": 4,
  "nbformat_minor": 0,
  "metadata": {
    "colab": {
      "name": "5.5.4 Challenge: What test to use: Happiness data",
      "version": "0.3.2",
      "provenance": [],
      "collapsed_sections": []
    },
    "kernelspec": {
      "name": "python3",
      "display_name": "Python 3"
    }
  },
  "cells": [
    {
      "cell_type": "code",
      "metadata": {
        "id": "1nozCG03UMh8",
        "colab_type": "code",
        "colab": {}
      },
      "source": [
        "import pandas as pd\n",
        "import numpy as np\n",
        "import matplotlib.pyplot as plt\n",
        "import scipy.stats as stats\n",
        "import seaborn as sns\n",
        "%matplotlib inline"
      ],
      "execution_count": 0,
      "outputs": []
    },
    {
      "cell_type": "code",
      "metadata": {
        "id": "MpkC_pVIUXsu",
        "colab_type": "code",
        "outputId": "1ca47006-81ff-47b4-f19f-525b3ccf9213",
        "colab": {
          "base_uri": "https://localhost:8080/",
          "height": 1907
        }
      },
      "source": [
        "df = pd.read_csv(r'https://raw.githubusercontent.com/Thinkful-Ed/data-201-resources/master/ESS_practice_data/ESSdata_Thinkful.csv')\n",
        "df"
      ],
      "execution_count": 29,
      "outputs": [
        {
          "output_type": "execute_result",
          "data": {
            "text/html": [
              "<div>\n",
              "<style scoped>\n",
              "    .dataframe tbody tr th:only-of-type {\n",
              "        vertical-align: middle;\n",
              "    }\n",
              "\n",
              "    .dataframe tbody tr th {\n",
              "        vertical-align: top;\n",
              "    }\n",
              "\n",
              "    .dataframe thead th {\n",
              "        text-align: right;\n",
              "    }\n",
              "</style>\n",
              "<table border=\"1\" class=\"dataframe\">\n",
              "  <thead>\n",
              "    <tr style=\"text-align: right;\">\n",
              "      <th></th>\n",
              "      <th>cntry</th>\n",
              "      <th>idno</th>\n",
              "      <th>year</th>\n",
              "      <th>tvtot</th>\n",
              "      <th>ppltrst</th>\n",
              "      <th>pplfair</th>\n",
              "      <th>pplhlp</th>\n",
              "      <th>happy</th>\n",
              "      <th>sclmeet</th>\n",
              "      <th>sclact</th>\n",
              "      <th>gndr</th>\n",
              "      <th>agea</th>\n",
              "      <th>partner</th>\n",
              "    </tr>\n",
              "  </thead>\n",
              "  <tbody>\n",
              "    <tr>\n",
              "      <th>0</th>\n",
              "      <td>CH</td>\n",
              "      <td>5.0</td>\n",
              "      <td>6</td>\n",
              "      <td>3.0</td>\n",
              "      <td>3.0</td>\n",
              "      <td>10.0</td>\n",
              "      <td>5.0</td>\n",
              "      <td>8.0</td>\n",
              "      <td>5.0</td>\n",
              "      <td>4.0</td>\n",
              "      <td>2.0</td>\n",
              "      <td>60.0</td>\n",
              "      <td>1.0</td>\n",
              "    </tr>\n",
              "    <tr>\n",
              "      <th>1</th>\n",
              "      <td>CH</td>\n",
              "      <td>25.0</td>\n",
              "      <td>6</td>\n",
              "      <td>6.0</td>\n",
              "      <td>5.0</td>\n",
              "      <td>7.0</td>\n",
              "      <td>5.0</td>\n",
              "      <td>9.0</td>\n",
              "      <td>3.0</td>\n",
              "      <td>2.0</td>\n",
              "      <td>2.0</td>\n",
              "      <td>59.0</td>\n",
              "      <td>1.0</td>\n",
              "    </tr>\n",
              "    <tr>\n",
              "      <th>2</th>\n",
              "      <td>CH</td>\n",
              "      <td>26.0</td>\n",
              "      <td>6</td>\n",
              "      <td>1.0</td>\n",
              "      <td>8.0</td>\n",
              "      <td>8.0</td>\n",
              "      <td>8.0</td>\n",
              "      <td>7.0</td>\n",
              "      <td>6.0</td>\n",
              "      <td>3.0</td>\n",
              "      <td>1.0</td>\n",
              "      <td>24.0</td>\n",
              "      <td>2.0</td>\n",
              "    </tr>\n",
              "    <tr>\n",
              "      <th>3</th>\n",
              "      <td>CH</td>\n",
              "      <td>28.0</td>\n",
              "      <td>6</td>\n",
              "      <td>4.0</td>\n",
              "      <td>6.0</td>\n",
              "      <td>6.0</td>\n",
              "      <td>7.0</td>\n",
              "      <td>10.0</td>\n",
              "      <td>6.0</td>\n",
              "      <td>2.0</td>\n",
              "      <td>2.0</td>\n",
              "      <td>64.0</td>\n",
              "      <td>1.0</td>\n",
              "    </tr>\n",
              "    <tr>\n",
              "      <th>4</th>\n",
              "      <td>CH</td>\n",
              "      <td>29.0</td>\n",
              "      <td>6</td>\n",
              "      <td>5.0</td>\n",
              "      <td>6.0</td>\n",
              "      <td>7.0</td>\n",
              "      <td>5.0</td>\n",
              "      <td>8.0</td>\n",
              "      <td>7.0</td>\n",
              "      <td>2.0</td>\n",
              "      <td>2.0</td>\n",
              "      <td>55.0</td>\n",
              "      <td>1.0</td>\n",
              "    </tr>\n",
              "    <tr>\n",
              "      <th>5</th>\n",
              "      <td>CH</td>\n",
              "      <td>36.0</td>\n",
              "      <td>6</td>\n",
              "      <td>4.0</td>\n",
              "      <td>6.0</td>\n",
              "      <td>7.0</td>\n",
              "      <td>3.0</td>\n",
              "      <td>8.0</td>\n",
              "      <td>7.0</td>\n",
              "      <td>4.0</td>\n",
              "      <td>2.0</td>\n",
              "      <td>NaN</td>\n",
              "      <td>2.0</td>\n",
              "    </tr>\n",
              "    <tr>\n",
              "      <th>6</th>\n",
              "      <td>CH</td>\n",
              "      <td>40.0</td>\n",
              "      <td>6</td>\n",
              "      <td>3.0</td>\n",
              "      <td>0.0</td>\n",
              "      <td>5.0</td>\n",
              "      <td>2.0</td>\n",
              "      <td>0.0</td>\n",
              "      <td>2.0</td>\n",
              "      <td>2.0</td>\n",
              "      <td>1.0</td>\n",
              "      <td>76.0</td>\n",
              "      <td>1.0</td>\n",
              "    </tr>\n",
              "    <tr>\n",
              "      <th>7</th>\n",
              "      <td>CH</td>\n",
              "      <td>41.0</td>\n",
              "      <td>6</td>\n",
              "      <td>2.0</td>\n",
              "      <td>4.0</td>\n",
              "      <td>5.0</td>\n",
              "      <td>3.0</td>\n",
              "      <td>10.0</td>\n",
              "      <td>5.0</td>\n",
              "      <td>2.0</td>\n",
              "      <td>2.0</td>\n",
              "      <td>30.0</td>\n",
              "      <td>1.0</td>\n",
              "    </tr>\n",
              "    <tr>\n",
              "      <th>8</th>\n",
              "      <td>CH</td>\n",
              "      <td>51.0</td>\n",
              "      <td>6</td>\n",
              "      <td>2.0</td>\n",
              "      <td>8.0</td>\n",
              "      <td>8.0</td>\n",
              "      <td>8.0</td>\n",
              "      <td>9.0</td>\n",
              "      <td>6.0</td>\n",
              "      <td>4.0</td>\n",
              "      <td>2.0</td>\n",
              "      <td>84.0</td>\n",
              "      <td>2.0</td>\n",
              "    </tr>\n",
              "    <tr>\n",
              "      <th>9</th>\n",
              "      <td>CH</td>\n",
              "      <td>53.0</td>\n",
              "      <td>6</td>\n",
              "      <td>4.0</td>\n",
              "      <td>4.0</td>\n",
              "      <td>4.0</td>\n",
              "      <td>8.0</td>\n",
              "      <td>7.0</td>\n",
              "      <td>4.0</td>\n",
              "      <td>2.0</td>\n",
              "      <td>2.0</td>\n",
              "      <td>62.0</td>\n",
              "      <td>1.0</td>\n",
              "    </tr>\n",
              "    <tr>\n",
              "      <th>10</th>\n",
              "      <td>CH</td>\n",
              "      <td>55.0</td>\n",
              "      <td>6</td>\n",
              "      <td>1.0</td>\n",
              "      <td>6.0</td>\n",
              "      <td>7.0</td>\n",
              "      <td>7.0</td>\n",
              "      <td>9.0</td>\n",
              "      <td>5.0</td>\n",
              "      <td>2.0</td>\n",
              "      <td>2.0</td>\n",
              "      <td>33.0</td>\n",
              "      <td>1.0</td>\n",
              "    </tr>\n",
              "    <tr>\n",
              "      <th>11</th>\n",
              "      <td>CH</td>\n",
              "      <td>56.0</td>\n",
              "      <td>6</td>\n",
              "      <td>4.0</td>\n",
              "      <td>5.0</td>\n",
              "      <td>7.0</td>\n",
              "      <td>7.0</td>\n",
              "      <td>7.0</td>\n",
              "      <td>5.0</td>\n",
              "      <td>3.0</td>\n",
              "      <td>1.0</td>\n",
              "      <td>40.0</td>\n",
              "      <td>1.0</td>\n",
              "    </tr>\n",
              "    <tr>\n",
              "      <th>12</th>\n",
              "      <td>CH</td>\n",
              "      <td>57.0</td>\n",
              "      <td>6</td>\n",
              "      <td>4.0</td>\n",
              "      <td>7.0</td>\n",
              "      <td>7.0</td>\n",
              "      <td>4.0</td>\n",
              "      <td>9.0</td>\n",
              "      <td>6.0</td>\n",
              "      <td>2.0</td>\n",
              "      <td>1.0</td>\n",
              "      <td>69.0</td>\n",
              "      <td>1.0</td>\n",
              "    </tr>\n",
              "    <tr>\n",
              "      <th>13</th>\n",
              "      <td>CH</td>\n",
              "      <td>58.0</td>\n",
              "      <td>6</td>\n",
              "      <td>2.0</td>\n",
              "      <td>1.0</td>\n",
              "      <td>9.0</td>\n",
              "      <td>7.0</td>\n",
              "      <td>8.0</td>\n",
              "      <td>4.0</td>\n",
              "      <td>3.0</td>\n",
              "      <td>1.0</td>\n",
              "      <td>59.0</td>\n",
              "      <td>2.0</td>\n",
              "    </tr>\n",
              "    <tr>\n",
              "      <th>14</th>\n",
              "      <td>CH</td>\n",
              "      <td>68.0</td>\n",
              "      <td>6</td>\n",
              "      <td>4.0</td>\n",
              "      <td>4.0</td>\n",
              "      <td>5.0</td>\n",
              "      <td>3.0</td>\n",
              "      <td>8.0</td>\n",
              "      <td>1.0</td>\n",
              "      <td>2.0</td>\n",
              "      <td>2.0</td>\n",
              "      <td>32.0</td>\n",
              "      <td>1.0</td>\n",
              "    </tr>\n",
              "    <tr>\n",
              "      <th>15</th>\n",
              "      <td>CH</td>\n",
              "      <td>73.0</td>\n",
              "      <td>6</td>\n",
              "      <td>5.0</td>\n",
              "      <td>4.0</td>\n",
              "      <td>5.0</td>\n",
              "      <td>5.0</td>\n",
              "      <td>9.0</td>\n",
              "      <td>3.0</td>\n",
              "      <td>3.0</td>\n",
              "      <td>2.0</td>\n",
              "      <td>70.0</td>\n",
              "      <td>1.0</td>\n",
              "    </tr>\n",
              "    <tr>\n",
              "      <th>16</th>\n",
              "      <td>CH</td>\n",
              "      <td>81.0</td>\n",
              "      <td>6</td>\n",
              "      <td>4.0</td>\n",
              "      <td>5.0</td>\n",
              "      <td>7.0</td>\n",
              "      <td>7.0</td>\n",
              "      <td>8.0</td>\n",
              "      <td>3.0</td>\n",
              "      <td>3.0</td>\n",
              "      <td>1.0</td>\n",
              "      <td>61.0</td>\n",
              "      <td>1.0</td>\n",
              "    </tr>\n",
              "    <tr>\n",
              "      <th>17</th>\n",
              "      <td>CH</td>\n",
              "      <td>82.0</td>\n",
              "      <td>6</td>\n",
              "      <td>2.0</td>\n",
              "      <td>7.0</td>\n",
              "      <td>7.0</td>\n",
              "      <td>7.0</td>\n",
              "      <td>6.0</td>\n",
              "      <td>6.0</td>\n",
              "      <td>3.0</td>\n",
              "      <td>1.0</td>\n",
              "      <td>30.0</td>\n",
              "      <td>1.0</td>\n",
              "    </tr>\n",
              "    <tr>\n",
              "      <th>18</th>\n",
              "      <td>CH</td>\n",
              "      <td>84.0</td>\n",
              "      <td>6</td>\n",
              "      <td>0.0</td>\n",
              "      <td>9.0</td>\n",
              "      <td>7.0</td>\n",
              "      <td>8.0</td>\n",
              "      <td>9.0</td>\n",
              "      <td>5.0</td>\n",
              "      <td>4.0</td>\n",
              "      <td>1.0</td>\n",
              "      <td>21.0</td>\n",
              "      <td>2.0</td>\n",
              "    </tr>\n",
              "    <tr>\n",
              "      <th>19</th>\n",
              "      <td>CH</td>\n",
              "      <td>86.0</td>\n",
              "      <td>6</td>\n",
              "      <td>2.0</td>\n",
              "      <td>6.0</td>\n",
              "      <td>6.0</td>\n",
              "      <td>6.0</td>\n",
              "      <td>8.0</td>\n",
              "      <td>4.0</td>\n",
              "      <td>3.0</td>\n",
              "      <td>2.0</td>\n",
              "      <td>36.0</td>\n",
              "      <td>1.0</td>\n",
              "    </tr>\n",
              "    <tr>\n",
              "      <th>20</th>\n",
              "      <td>CH</td>\n",
              "      <td>87.0</td>\n",
              "      <td>6</td>\n",
              "      <td>7.0</td>\n",
              "      <td>3.0</td>\n",
              "      <td>4.0</td>\n",
              "      <td>4.0</td>\n",
              "      <td>7.0</td>\n",
              "      <td>6.0</td>\n",
              "      <td>4.0</td>\n",
              "      <td>1.0</td>\n",
              "      <td>51.0</td>\n",
              "      <td>1.0</td>\n",
              "    </tr>\n",
              "    <tr>\n",
              "      <th>21</th>\n",
              "      <td>CH</td>\n",
              "      <td>96.0</td>\n",
              "      <td>6</td>\n",
              "      <td>1.0</td>\n",
              "      <td>8.0</td>\n",
              "      <td>8.0</td>\n",
              "      <td>6.0</td>\n",
              "      <td>8.0</td>\n",
              "      <td>7.0</td>\n",
              "      <td>4.0</td>\n",
              "      <td>1.0</td>\n",
              "      <td>25.0</td>\n",
              "      <td>2.0</td>\n",
              "    </tr>\n",
              "    <tr>\n",
              "      <th>22</th>\n",
              "      <td>CH</td>\n",
              "      <td>98.0</td>\n",
              "      <td>6</td>\n",
              "      <td>2.0</td>\n",
              "      <td>7.0</td>\n",
              "      <td>7.0</td>\n",
              "      <td>8.0</td>\n",
              "      <td>9.0</td>\n",
              "      <td>6.0</td>\n",
              "      <td>3.0</td>\n",
              "      <td>1.0</td>\n",
              "      <td>62.0</td>\n",
              "      <td>1.0</td>\n",
              "    </tr>\n",
              "    <tr>\n",
              "      <th>23</th>\n",
              "      <td>CH</td>\n",
              "      <td>104.0</td>\n",
              "      <td>6</td>\n",
              "      <td>2.0</td>\n",
              "      <td>4.0</td>\n",
              "      <td>8.0</td>\n",
              "      <td>8.0</td>\n",
              "      <td>9.0</td>\n",
              "      <td>6.0</td>\n",
              "      <td>2.0</td>\n",
              "      <td>2.0</td>\n",
              "      <td>20.0</td>\n",
              "      <td>2.0</td>\n",
              "    </tr>\n",
              "    <tr>\n",
              "      <th>24</th>\n",
              "      <td>CH</td>\n",
              "      <td>108.0</td>\n",
              "      <td>6</td>\n",
              "      <td>0.0</td>\n",
              "      <td>7.0</td>\n",
              "      <td>7.0</td>\n",
              "      <td>4.0</td>\n",
              "      <td>9.0</td>\n",
              "      <td>4.0</td>\n",
              "      <td>2.0</td>\n",
              "      <td>2.0</td>\n",
              "      <td>22.0</td>\n",
              "      <td>1.0</td>\n",
              "    </tr>\n",
              "    <tr>\n",
              "      <th>25</th>\n",
              "      <td>CH</td>\n",
              "      <td>117.0</td>\n",
              "      <td>6</td>\n",
              "      <td>0.0</td>\n",
              "      <td>6.0</td>\n",
              "      <td>7.0</td>\n",
              "      <td>5.0</td>\n",
              "      <td>7.0</td>\n",
              "      <td>6.0</td>\n",
              "      <td>2.0</td>\n",
              "      <td>2.0</td>\n",
              "      <td>32.0</td>\n",
              "      <td>1.0</td>\n",
              "    </tr>\n",
              "    <tr>\n",
              "      <th>26</th>\n",
              "      <td>CH</td>\n",
              "      <td>118.0</td>\n",
              "      <td>6</td>\n",
              "      <td>2.0</td>\n",
              "      <td>7.0</td>\n",
              "      <td>6.0</td>\n",
              "      <td>5.0</td>\n",
              "      <td>8.0</td>\n",
              "      <td>4.0</td>\n",
              "      <td>3.0</td>\n",
              "      <td>2.0</td>\n",
              "      <td>35.0</td>\n",
              "      <td>1.0</td>\n",
              "    </tr>\n",
              "    <tr>\n",
              "      <th>27</th>\n",
              "      <td>CH</td>\n",
              "      <td>119.0</td>\n",
              "      <td>6</td>\n",
              "      <td>0.0</td>\n",
              "      <td>5.0</td>\n",
              "      <td>8.0</td>\n",
              "      <td>6.0</td>\n",
              "      <td>9.0</td>\n",
              "      <td>4.0</td>\n",
              "      <td>2.0</td>\n",
              "      <td>2.0</td>\n",
              "      <td>26.0</td>\n",
              "      <td>1.0</td>\n",
              "    </tr>\n",
              "    <tr>\n",
              "      <th>28</th>\n",
              "      <td>CH</td>\n",
              "      <td>121.0</td>\n",
              "      <td>6</td>\n",
              "      <td>2.0</td>\n",
              "      <td>8.0</td>\n",
              "      <td>8.0</td>\n",
              "      <td>8.0</td>\n",
              "      <td>10.0</td>\n",
              "      <td>6.0</td>\n",
              "      <td>3.0</td>\n",
              "      <td>2.0</td>\n",
              "      <td>35.0</td>\n",
              "      <td>1.0</td>\n",
              "    </tr>\n",
              "    <tr>\n",
              "      <th>29</th>\n",
              "      <td>CH</td>\n",
              "      <td>133.0</td>\n",
              "      <td>6</td>\n",
              "      <td>7.0</td>\n",
              "      <td>8.0</td>\n",
              "      <td>5.0</td>\n",
              "      <td>5.0</td>\n",
              "      <td>8.0</td>\n",
              "      <td>5.0</td>\n",
              "      <td>3.0</td>\n",
              "      <td>2.0</td>\n",
              "      <td>54.0</td>\n",
              "      <td>1.0</td>\n",
              "    </tr>\n",
              "    <tr>\n",
              "      <th>...</th>\n",
              "      <td>...</td>\n",
              "      <td>...</td>\n",
              "      <td>...</td>\n",
              "      <td>...</td>\n",
              "      <td>...</td>\n",
              "      <td>...</td>\n",
              "      <td>...</td>\n",
              "      <td>...</td>\n",
              "      <td>...</td>\n",
              "      <td>...</td>\n",
              "      <td>...</td>\n",
              "      <td>...</td>\n",
              "      <td>...</td>\n",
              "    </tr>\n",
              "    <tr>\n",
              "      <th>8564</th>\n",
              "      <td>SE</td>\n",
              "      <td>3659.0</td>\n",
              "      <td>7</td>\n",
              "      <td>2.0</td>\n",
              "      <td>1.0</td>\n",
              "      <td>5.0</td>\n",
              "      <td>4.0</td>\n",
              "      <td>10.0</td>\n",
              "      <td>7.0</td>\n",
              "      <td>4.0</td>\n",
              "      <td>1.0</td>\n",
              "      <td>17.0</td>\n",
              "      <td>2.0</td>\n",
              "    </tr>\n",
              "    <tr>\n",
              "      <th>8565</th>\n",
              "      <td>SE</td>\n",
              "      <td>3661.0</td>\n",
              "      <td>7</td>\n",
              "      <td>5.0</td>\n",
              "      <td>5.0</td>\n",
              "      <td>3.0</td>\n",
              "      <td>4.0</td>\n",
              "      <td>5.0</td>\n",
              "      <td>6.0</td>\n",
              "      <td>1.0</td>\n",
              "      <td>2.0</td>\n",
              "      <td>17.0</td>\n",
              "      <td>2.0</td>\n",
              "    </tr>\n",
              "    <tr>\n",
              "      <th>8566</th>\n",
              "      <td>SE</td>\n",
              "      <td>3662.0</td>\n",
              "      <td>7</td>\n",
              "      <td>2.0</td>\n",
              "      <td>7.0</td>\n",
              "      <td>8.0</td>\n",
              "      <td>6.0</td>\n",
              "      <td>8.0</td>\n",
              "      <td>7.0</td>\n",
              "      <td>3.0</td>\n",
              "      <td>2.0</td>\n",
              "      <td>17.0</td>\n",
              "      <td>2.0</td>\n",
              "    </tr>\n",
              "    <tr>\n",
              "      <th>8567</th>\n",
              "      <td>SE</td>\n",
              "      <td>3665.0</td>\n",
              "      <td>7</td>\n",
              "      <td>2.0</td>\n",
              "      <td>4.0</td>\n",
              "      <td>8.0</td>\n",
              "      <td>7.0</td>\n",
              "      <td>9.0</td>\n",
              "      <td>7.0</td>\n",
              "      <td>4.0</td>\n",
              "      <td>2.0</td>\n",
              "      <td>17.0</td>\n",
              "      <td>2.0</td>\n",
              "    </tr>\n",
              "    <tr>\n",
              "      <th>8568</th>\n",
              "      <td>SE</td>\n",
              "      <td>3666.0</td>\n",
              "      <td>7</td>\n",
              "      <td>1.0</td>\n",
              "      <td>2.0</td>\n",
              "      <td>8.0</td>\n",
              "      <td>6.0</td>\n",
              "      <td>9.0</td>\n",
              "      <td>7.0</td>\n",
              "      <td>3.0</td>\n",
              "      <td>2.0</td>\n",
              "      <td>17.0</td>\n",
              "      <td>2.0</td>\n",
              "    </tr>\n",
              "    <tr>\n",
              "      <th>8569</th>\n",
              "      <td>SE</td>\n",
              "      <td>3668.0</td>\n",
              "      <td>7</td>\n",
              "      <td>6.0</td>\n",
              "      <td>5.0</td>\n",
              "      <td>3.0</td>\n",
              "      <td>4.0</td>\n",
              "      <td>9.0</td>\n",
              "      <td>6.0</td>\n",
              "      <td>4.0</td>\n",
              "      <td>1.0</td>\n",
              "      <td>17.0</td>\n",
              "      <td>2.0</td>\n",
              "    </tr>\n",
              "    <tr>\n",
              "      <th>8570</th>\n",
              "      <td>SE</td>\n",
              "      <td>3670.0</td>\n",
              "      <td>7</td>\n",
              "      <td>1.0</td>\n",
              "      <td>5.0</td>\n",
              "      <td>7.0</td>\n",
              "      <td>7.0</td>\n",
              "      <td>8.0</td>\n",
              "      <td>7.0</td>\n",
              "      <td>4.0</td>\n",
              "      <td>1.0</td>\n",
              "      <td>16.0</td>\n",
              "      <td>2.0</td>\n",
              "    </tr>\n",
              "    <tr>\n",
              "      <th>8571</th>\n",
              "      <td>SE</td>\n",
              "      <td>3671.0</td>\n",
              "      <td>7</td>\n",
              "      <td>3.0</td>\n",
              "      <td>4.0</td>\n",
              "      <td>9.0</td>\n",
              "      <td>7.0</td>\n",
              "      <td>8.0</td>\n",
              "      <td>6.0</td>\n",
              "      <td>3.0</td>\n",
              "      <td>1.0</td>\n",
              "      <td>16.0</td>\n",
              "      <td>2.0</td>\n",
              "    </tr>\n",
              "    <tr>\n",
              "      <th>8572</th>\n",
              "      <td>SE</td>\n",
              "      <td>3682.0</td>\n",
              "      <td>7</td>\n",
              "      <td>5.0</td>\n",
              "      <td>7.0</td>\n",
              "      <td>8.0</td>\n",
              "      <td>5.0</td>\n",
              "      <td>8.0</td>\n",
              "      <td>3.0</td>\n",
              "      <td>1.0</td>\n",
              "      <td>1.0</td>\n",
              "      <td>16.0</td>\n",
              "      <td>2.0</td>\n",
              "    </tr>\n",
              "    <tr>\n",
              "      <th>8573</th>\n",
              "      <td>SE</td>\n",
              "      <td>3684.0</td>\n",
              "      <td>7</td>\n",
              "      <td>1.0</td>\n",
              "      <td>8.0</td>\n",
              "      <td>8.0</td>\n",
              "      <td>6.0</td>\n",
              "      <td>9.0</td>\n",
              "      <td>7.0</td>\n",
              "      <td>3.0</td>\n",
              "      <td>2.0</td>\n",
              "      <td>16.0</td>\n",
              "      <td>2.0</td>\n",
              "    </tr>\n",
              "    <tr>\n",
              "      <th>8574</th>\n",
              "      <td>SE</td>\n",
              "      <td>3687.0</td>\n",
              "      <td>7</td>\n",
              "      <td>1.0</td>\n",
              "      <td>4.0</td>\n",
              "      <td>5.0</td>\n",
              "      <td>6.0</td>\n",
              "      <td>7.0</td>\n",
              "      <td>7.0</td>\n",
              "      <td>3.0</td>\n",
              "      <td>2.0</td>\n",
              "      <td>16.0</td>\n",
              "      <td>2.0</td>\n",
              "    </tr>\n",
              "    <tr>\n",
              "      <th>8575</th>\n",
              "      <td>SE</td>\n",
              "      <td>3689.0</td>\n",
              "      <td>7</td>\n",
              "      <td>3.0</td>\n",
              "      <td>8.0</td>\n",
              "      <td>7.0</td>\n",
              "      <td>7.0</td>\n",
              "      <td>8.0</td>\n",
              "      <td>7.0</td>\n",
              "      <td>3.0</td>\n",
              "      <td>1.0</td>\n",
              "      <td>16.0</td>\n",
              "      <td>2.0</td>\n",
              "    </tr>\n",
              "    <tr>\n",
              "      <th>8576</th>\n",
              "      <td>SE</td>\n",
              "      <td>3690.0</td>\n",
              "      <td>7</td>\n",
              "      <td>4.0</td>\n",
              "      <td>5.0</td>\n",
              "      <td>4.0</td>\n",
              "      <td>4.0</td>\n",
              "      <td>7.0</td>\n",
              "      <td>6.0</td>\n",
              "      <td>3.0</td>\n",
              "      <td>1.0</td>\n",
              "      <td>16.0</td>\n",
              "      <td>2.0</td>\n",
              "    </tr>\n",
              "    <tr>\n",
              "      <th>8577</th>\n",
              "      <td>SE</td>\n",
              "      <td>3692.0</td>\n",
              "      <td>7</td>\n",
              "      <td>6.0</td>\n",
              "      <td>6.0</td>\n",
              "      <td>9.0</td>\n",
              "      <td>7.0</td>\n",
              "      <td>5.0</td>\n",
              "      <td>4.0</td>\n",
              "      <td>2.0</td>\n",
              "      <td>2.0</td>\n",
              "      <td>16.0</td>\n",
              "      <td>2.0</td>\n",
              "    </tr>\n",
              "    <tr>\n",
              "      <th>8578</th>\n",
              "      <td>SE</td>\n",
              "      <td>3696.0</td>\n",
              "      <td>7</td>\n",
              "      <td>1.0</td>\n",
              "      <td>5.0</td>\n",
              "      <td>5.0</td>\n",
              "      <td>5.0</td>\n",
              "      <td>7.0</td>\n",
              "      <td>5.0</td>\n",
              "      <td>4.0</td>\n",
              "      <td>2.0</td>\n",
              "      <td>16.0</td>\n",
              "      <td>2.0</td>\n",
              "    </tr>\n",
              "    <tr>\n",
              "      <th>8579</th>\n",
              "      <td>SE</td>\n",
              "      <td>3700.0</td>\n",
              "      <td>7</td>\n",
              "      <td>2.0</td>\n",
              "      <td>8.0</td>\n",
              "      <td>9.0</td>\n",
              "      <td>7.0</td>\n",
              "      <td>9.0</td>\n",
              "      <td>7.0</td>\n",
              "      <td>3.0</td>\n",
              "      <td>2.0</td>\n",
              "      <td>16.0</td>\n",
              "      <td>2.0</td>\n",
              "    </tr>\n",
              "    <tr>\n",
              "      <th>8580</th>\n",
              "      <td>SE</td>\n",
              "      <td>3702.0</td>\n",
              "      <td>7</td>\n",
              "      <td>4.0</td>\n",
              "      <td>7.0</td>\n",
              "      <td>8.0</td>\n",
              "      <td>5.0</td>\n",
              "      <td>10.0</td>\n",
              "      <td>4.0</td>\n",
              "      <td>1.0</td>\n",
              "      <td>1.0</td>\n",
              "      <td>16.0</td>\n",
              "      <td>2.0</td>\n",
              "    </tr>\n",
              "    <tr>\n",
              "      <th>8581</th>\n",
              "      <td>SE</td>\n",
              "      <td>3703.0</td>\n",
              "      <td>7</td>\n",
              "      <td>1.0</td>\n",
              "      <td>6.0</td>\n",
              "      <td>7.0</td>\n",
              "      <td>6.0</td>\n",
              "      <td>8.0</td>\n",
              "      <td>6.0</td>\n",
              "      <td>3.0</td>\n",
              "      <td>1.0</td>\n",
              "      <td>16.0</td>\n",
              "      <td>2.0</td>\n",
              "    </tr>\n",
              "    <tr>\n",
              "      <th>8582</th>\n",
              "      <td>SE</td>\n",
              "      <td>3707.0</td>\n",
              "      <td>7</td>\n",
              "      <td>6.0</td>\n",
              "      <td>7.0</td>\n",
              "      <td>7.0</td>\n",
              "      <td>6.0</td>\n",
              "      <td>8.0</td>\n",
              "      <td>7.0</td>\n",
              "      <td>3.0</td>\n",
              "      <td>1.0</td>\n",
              "      <td>16.0</td>\n",
              "      <td>2.0</td>\n",
              "    </tr>\n",
              "    <tr>\n",
              "      <th>8583</th>\n",
              "      <td>SE</td>\n",
              "      <td>3708.0</td>\n",
              "      <td>7</td>\n",
              "      <td>2.0</td>\n",
              "      <td>6.0</td>\n",
              "      <td>8.0</td>\n",
              "      <td>5.0</td>\n",
              "      <td>10.0</td>\n",
              "      <td>6.0</td>\n",
              "      <td>5.0</td>\n",
              "      <td>1.0</td>\n",
              "      <td>16.0</td>\n",
              "      <td>2.0</td>\n",
              "    </tr>\n",
              "    <tr>\n",
              "      <th>8584</th>\n",
              "      <td>SE</td>\n",
              "      <td>3709.0</td>\n",
              "      <td>7</td>\n",
              "      <td>2.0</td>\n",
              "      <td>8.0</td>\n",
              "      <td>10.0</td>\n",
              "      <td>6.0</td>\n",
              "      <td>9.0</td>\n",
              "      <td>6.0</td>\n",
              "      <td>2.0</td>\n",
              "      <td>1.0</td>\n",
              "      <td>16.0</td>\n",
              "      <td>2.0</td>\n",
              "    </tr>\n",
              "    <tr>\n",
              "      <th>8585</th>\n",
              "      <td>SE</td>\n",
              "      <td>3712.0</td>\n",
              "      <td>7</td>\n",
              "      <td>1.0</td>\n",
              "      <td>3.0</td>\n",
              "      <td>6.0</td>\n",
              "      <td>4.0</td>\n",
              "      <td>9.0</td>\n",
              "      <td>7.0</td>\n",
              "      <td>3.0</td>\n",
              "      <td>1.0</td>\n",
              "      <td>16.0</td>\n",
              "      <td>2.0</td>\n",
              "    </tr>\n",
              "    <tr>\n",
              "      <th>8586</th>\n",
              "      <td>SE</td>\n",
              "      <td>3716.0</td>\n",
              "      <td>7</td>\n",
              "      <td>2.0</td>\n",
              "      <td>4.0</td>\n",
              "      <td>6.0</td>\n",
              "      <td>3.0</td>\n",
              "      <td>7.0</td>\n",
              "      <td>7.0</td>\n",
              "      <td>3.0</td>\n",
              "      <td>2.0</td>\n",
              "      <td>15.0</td>\n",
              "      <td>2.0</td>\n",
              "    </tr>\n",
              "    <tr>\n",
              "      <th>8587</th>\n",
              "      <td>SE</td>\n",
              "      <td>3720.0</td>\n",
              "      <td>7</td>\n",
              "      <td>4.0</td>\n",
              "      <td>4.0</td>\n",
              "      <td>6.0</td>\n",
              "      <td>7.0</td>\n",
              "      <td>9.0</td>\n",
              "      <td>7.0</td>\n",
              "      <td>3.0</td>\n",
              "      <td>1.0</td>\n",
              "      <td>15.0</td>\n",
              "      <td>2.0</td>\n",
              "    </tr>\n",
              "    <tr>\n",
              "      <th>8588</th>\n",
              "      <td>SE</td>\n",
              "      <td>3727.0</td>\n",
              "      <td>7</td>\n",
              "      <td>1.0</td>\n",
              "      <td>6.0</td>\n",
              "      <td>5.0</td>\n",
              "      <td>5.0</td>\n",
              "      <td>10.0</td>\n",
              "      <td>7.0</td>\n",
              "      <td>2.0</td>\n",
              "      <td>1.0</td>\n",
              "      <td>15.0</td>\n",
              "      <td>2.0</td>\n",
              "    </tr>\n",
              "    <tr>\n",
              "      <th>8589</th>\n",
              "      <td>SE</td>\n",
              "      <td>3729.0</td>\n",
              "      <td>7</td>\n",
              "      <td>3.0</td>\n",
              "      <td>4.0</td>\n",
              "      <td>5.0</td>\n",
              "      <td>3.0</td>\n",
              "      <td>6.0</td>\n",
              "      <td>6.0</td>\n",
              "      <td>2.0</td>\n",
              "      <td>1.0</td>\n",
              "      <td>18.0</td>\n",
              "      <td>2.0</td>\n",
              "    </tr>\n",
              "    <tr>\n",
              "      <th>8590</th>\n",
              "      <td>SE</td>\n",
              "      <td>3732.0</td>\n",
              "      <td>7</td>\n",
              "      <td>5.0</td>\n",
              "      <td>6.0</td>\n",
              "      <td>4.0</td>\n",
              "      <td>4.0</td>\n",
              "      <td>10.0</td>\n",
              "      <td>6.0</td>\n",
              "      <td>3.0</td>\n",
              "      <td>1.0</td>\n",
              "      <td>15.0</td>\n",
              "      <td>2.0</td>\n",
              "    </tr>\n",
              "    <tr>\n",
              "      <th>8591</th>\n",
              "      <td>SE</td>\n",
              "      <td>3743.0</td>\n",
              "      <td>7</td>\n",
              "      <td>4.0</td>\n",
              "      <td>5.0</td>\n",
              "      <td>7.0</td>\n",
              "      <td>6.0</td>\n",
              "      <td>8.0</td>\n",
              "      <td>6.0</td>\n",
              "      <td>3.0</td>\n",
              "      <td>1.0</td>\n",
              "      <td>44.0</td>\n",
              "      <td>2.0</td>\n",
              "    </tr>\n",
              "    <tr>\n",
              "      <th>8592</th>\n",
              "      <td>SE</td>\n",
              "      <td>3744.0</td>\n",
              "      <td>7</td>\n",
              "      <td>5.0</td>\n",
              "      <td>8.0</td>\n",
              "      <td>8.0</td>\n",
              "      <td>6.0</td>\n",
              "      <td>9.0</td>\n",
              "      <td>7.0</td>\n",
              "      <td>3.0</td>\n",
              "      <td>1.0</td>\n",
              "      <td>15.0</td>\n",
              "      <td>2.0</td>\n",
              "    </tr>\n",
              "    <tr>\n",
              "      <th>8593</th>\n",
              "      <td>SE</td>\n",
              "      <td>3746.0</td>\n",
              "      <td>7</td>\n",
              "      <td>2.0</td>\n",
              "      <td>6.0</td>\n",
              "      <td>7.0</td>\n",
              "      <td>5.0</td>\n",
              "      <td>7.0</td>\n",
              "      <td>7.0</td>\n",
              "      <td>4.0</td>\n",
              "      <td>2.0</td>\n",
              "      <td>15.0</td>\n",
              "      <td>2.0</td>\n",
              "    </tr>\n",
              "  </tbody>\n",
              "</table>\n",
              "<p>8594 rows × 13 columns</p>\n",
              "</div>"
            ],
            "text/plain": [
              "     cntry    idno  year  tvtot  ppltrst  ...  sclmeet  sclact  gndr  agea  partner\n",
              "0       CH     5.0     6    3.0      3.0  ...      5.0     4.0   2.0  60.0      1.0\n",
              "1       CH    25.0     6    6.0      5.0  ...      3.0     2.0   2.0  59.0      1.0\n",
              "2       CH    26.0     6    1.0      8.0  ...      6.0     3.0   1.0  24.0      2.0\n",
              "3       CH    28.0     6    4.0      6.0  ...      6.0     2.0   2.0  64.0      1.0\n",
              "4       CH    29.0     6    5.0      6.0  ...      7.0     2.0   2.0  55.0      1.0\n",
              "5       CH    36.0     6    4.0      6.0  ...      7.0     4.0   2.0   NaN      2.0\n",
              "6       CH    40.0     6    3.0      0.0  ...      2.0     2.0   1.0  76.0      1.0\n",
              "7       CH    41.0     6    2.0      4.0  ...      5.0     2.0   2.0  30.0      1.0\n",
              "8       CH    51.0     6    2.0      8.0  ...      6.0     4.0   2.0  84.0      2.0\n",
              "9       CH    53.0     6    4.0      4.0  ...      4.0     2.0   2.0  62.0      1.0\n",
              "10      CH    55.0     6    1.0      6.0  ...      5.0     2.0   2.0  33.0      1.0\n",
              "11      CH    56.0     6    4.0      5.0  ...      5.0     3.0   1.0  40.0      1.0\n",
              "12      CH    57.0     6    4.0      7.0  ...      6.0     2.0   1.0  69.0      1.0\n",
              "13      CH    58.0     6    2.0      1.0  ...      4.0     3.0   1.0  59.0      2.0\n",
              "14      CH    68.0     6    4.0      4.0  ...      1.0     2.0   2.0  32.0      1.0\n",
              "15      CH    73.0     6    5.0      4.0  ...      3.0     3.0   2.0  70.0      1.0\n",
              "16      CH    81.0     6    4.0      5.0  ...      3.0     3.0   1.0  61.0      1.0\n",
              "17      CH    82.0     6    2.0      7.0  ...      6.0     3.0   1.0  30.0      1.0\n",
              "18      CH    84.0     6    0.0      9.0  ...      5.0     4.0   1.0  21.0      2.0\n",
              "19      CH    86.0     6    2.0      6.0  ...      4.0     3.0   2.0  36.0      1.0\n",
              "20      CH    87.0     6    7.0      3.0  ...      6.0     4.0   1.0  51.0      1.0\n",
              "21      CH    96.0     6    1.0      8.0  ...      7.0     4.0   1.0  25.0      2.0\n",
              "22      CH    98.0     6    2.0      7.0  ...      6.0     3.0   1.0  62.0      1.0\n",
              "23      CH   104.0     6    2.0      4.0  ...      6.0     2.0   2.0  20.0      2.0\n",
              "24      CH   108.0     6    0.0      7.0  ...      4.0     2.0   2.0  22.0      1.0\n",
              "25      CH   117.0     6    0.0      6.0  ...      6.0     2.0   2.0  32.0      1.0\n",
              "26      CH   118.0     6    2.0      7.0  ...      4.0     3.0   2.0  35.0      1.0\n",
              "27      CH   119.0     6    0.0      5.0  ...      4.0     2.0   2.0  26.0      1.0\n",
              "28      CH   121.0     6    2.0      8.0  ...      6.0     3.0   2.0  35.0      1.0\n",
              "29      CH   133.0     6    7.0      8.0  ...      5.0     3.0   2.0  54.0      1.0\n",
              "...    ...     ...   ...    ...      ...  ...      ...     ...   ...   ...      ...\n",
              "8564    SE  3659.0     7    2.0      1.0  ...      7.0     4.0   1.0  17.0      2.0\n",
              "8565    SE  3661.0     7    5.0      5.0  ...      6.0     1.0   2.0  17.0      2.0\n",
              "8566    SE  3662.0     7    2.0      7.0  ...      7.0     3.0   2.0  17.0      2.0\n",
              "8567    SE  3665.0     7    2.0      4.0  ...      7.0     4.0   2.0  17.0      2.0\n",
              "8568    SE  3666.0     7    1.0      2.0  ...      7.0     3.0   2.0  17.0      2.0\n",
              "8569    SE  3668.0     7    6.0      5.0  ...      6.0     4.0   1.0  17.0      2.0\n",
              "8570    SE  3670.0     7    1.0      5.0  ...      7.0     4.0   1.0  16.0      2.0\n",
              "8571    SE  3671.0     7    3.0      4.0  ...      6.0     3.0   1.0  16.0      2.0\n",
              "8572    SE  3682.0     7    5.0      7.0  ...      3.0     1.0   1.0  16.0      2.0\n",
              "8573    SE  3684.0     7    1.0      8.0  ...      7.0     3.0   2.0  16.0      2.0\n",
              "8574    SE  3687.0     7    1.0      4.0  ...      7.0     3.0   2.0  16.0      2.0\n",
              "8575    SE  3689.0     7    3.0      8.0  ...      7.0     3.0   1.0  16.0      2.0\n",
              "8576    SE  3690.0     7    4.0      5.0  ...      6.0     3.0   1.0  16.0      2.0\n",
              "8577    SE  3692.0     7    6.0      6.0  ...      4.0     2.0   2.0  16.0      2.0\n",
              "8578    SE  3696.0     7    1.0      5.0  ...      5.0     4.0   2.0  16.0      2.0\n",
              "8579    SE  3700.0     7    2.0      8.0  ...      7.0     3.0   2.0  16.0      2.0\n",
              "8580    SE  3702.0     7    4.0      7.0  ...      4.0     1.0   1.0  16.0      2.0\n",
              "8581    SE  3703.0     7    1.0      6.0  ...      6.0     3.0   1.0  16.0      2.0\n",
              "8582    SE  3707.0     7    6.0      7.0  ...      7.0     3.0   1.0  16.0      2.0\n",
              "8583    SE  3708.0     7    2.0      6.0  ...      6.0     5.0   1.0  16.0      2.0\n",
              "8584    SE  3709.0     7    2.0      8.0  ...      6.0     2.0   1.0  16.0      2.0\n",
              "8585    SE  3712.0     7    1.0      3.0  ...      7.0     3.0   1.0  16.0      2.0\n",
              "8586    SE  3716.0     7    2.0      4.0  ...      7.0     3.0   2.0  15.0      2.0\n",
              "8587    SE  3720.0     7    4.0      4.0  ...      7.0     3.0   1.0  15.0      2.0\n",
              "8588    SE  3727.0     7    1.0      6.0  ...      7.0     2.0   1.0  15.0      2.0\n",
              "8589    SE  3729.0     7    3.0      4.0  ...      6.0     2.0   1.0  18.0      2.0\n",
              "8590    SE  3732.0     7    5.0      6.0  ...      6.0     3.0   1.0  15.0      2.0\n",
              "8591    SE  3743.0     7    4.0      5.0  ...      6.0     3.0   1.0  44.0      2.0\n",
              "8592    SE  3744.0     7    5.0      8.0  ...      7.0     3.0   1.0  15.0      2.0\n",
              "8593    SE  3746.0     7    2.0      6.0  ...      7.0     4.0   2.0  15.0      2.0\n",
              "\n",
              "[8594 rows x 13 columns]"
            ]
          },
          "metadata": {
            "tags": []
          },
          "execution_count": 29
        }
      ]
    },
    {
      "cell_type": "code",
      "metadata": {
        "id": "lvQk1VC6kx3-",
        "colab_type": "code",
        "colab": {}
      },
      "source": [
        "df = df.drop('idno', axis = 1)"
      ],
      "execution_count": 0,
      "outputs": []
    },
    {
      "cell_type": "code",
      "metadata": {
        "id": "DaaN6NSgdq40",
        "colab_type": "code",
        "outputId": "ea4cb72f-937c-483b-e164-d778f566cf87",
        "colab": {
          "base_uri": "https://localhost:8080/",
          "height": 450
        }
      },
      "source": [
        "#df_years = df.loc[((df['year'] == 6) | (df['year'] == 7)), ['year','cntry', 'ppltrst']]\n",
        "#df_years['2012'] = df_years[[df_years['year']]==6]\n",
        "#df_years['2014'] = df_years[[df_years['year']]==7]\n",
        "#df_years['2014']\n",
        "\n",
        "\n",
        "dg_2012= df[df['year']==6]\n",
        "dg_2014 = df[df['year']==7]\n",
        "\n",
        "dg_2012 = dg_2012.dropna()\n",
        "dg_2014 = dg_2014.dropna()\n",
        "\n",
        "print (dg_2012.isnull().sum())\n",
        "print (dg_2014.isnull().sum())\n",
        "#print (dg.ppltrst.sum())\n",
        "\n",
        "#print(dg.happy.sum())\n"
      ],
      "execution_count": 31,
      "outputs": [
        {
          "output_type": "stream",
          "text": [
            "cntry      0\n",
            "year       0\n",
            "tvtot      0\n",
            "ppltrst    0\n",
            "pplfair    0\n",
            "pplhlp     0\n",
            "happy      0\n",
            "sclmeet    0\n",
            "sclact     0\n",
            "gndr       0\n",
            "agea       0\n",
            "partner    0\n",
            "dtype: int64\n",
            "cntry      0\n",
            "year       0\n",
            "tvtot      0\n",
            "ppltrst    0\n",
            "pplfair    0\n",
            "pplhlp     0\n",
            "happy      0\n",
            "sclmeet    0\n",
            "sclact     0\n",
            "gndr       0\n",
            "agea       0\n",
            "partner    0\n",
            "dtype: int64\n"
          ],
          "name": "stdout"
        }
      ]
    },
    {
      "cell_type": "markdown",
      "metadata": {
        "id": "gd2lb44gcoXb",
        "colab_type": "text"
      },
      "source": [
        "#A look at trust"
      ]
    },
    {
      "cell_type": "code",
      "metadata": {
        "id": "lJ3lZ92PUeKh",
        "colab_type": "code",
        "outputId": "e0c99b02-31ea-4e20-f933-425daa8e24d2",
        "colab": {
          "base_uri": "https://localhost:8080/",
          "height": 402
        }
      },
      "source": [
        "plt.hist(df['ppltrst'])\n",
        "#plt.hist(df['year'])"
      ],
      "execution_count": 32,
      "outputs": [
        {
          "output_type": "stream",
          "text": [
            "/usr/local/lib/python3.6/dist-packages/numpy/lib/histograms.py:824: RuntimeWarning: invalid value encountered in greater_equal\n",
            "  keep = (tmp_a >= first_edge)\n",
            "/usr/local/lib/python3.6/dist-packages/numpy/lib/histograms.py:825: RuntimeWarning: invalid value encountered in less_equal\n",
            "  keep &= (tmp_a <= last_edge)\n"
          ],
          "name": "stderr"
        },
        {
          "output_type": "execute_result",
          "data": {
            "text/plain": [
              "(array([ 271.,  170.,  440.,  715.,  767., 1697., 1098., 1639., 1299.,\n",
              "         484.]),\n",
              " array([ 0.,  1.,  2.,  3.,  4.,  5.,  6.,  7.,  8.,  9., 10.]),\n",
              " <a list of 10 Patch objects>)"
            ]
          },
          "metadata": {
            "tags": []
          },
          "execution_count": 32
        },
        {
          "output_type": "display_data",
          "data": {
            "image/png": "[encoded data removed]",
            "text/plain": [
              "<Figure size 432x288 with 1 Axes>"
            ]
          },
          "metadata": {
            "tags": []
          }
        }
      ]
    },
    {
      "cell_type": "code",
      "metadata": {
        "colab_type": "code",
        "outputId": "4c2d4900-6256-4d86-a03d-855fa4602a6b",
        "id": "WcCg3agnZwgk",
        "colab": {
          "base_uri": "https://localhost:8080/",
          "height": 602
        }
      },
      "source": [
        "\n",
        "dg_2012.boxplot(column ='ppltrst', by = 'cntry')\n",
        "\n",
        "\n",
        "dg_2014.boxplot(column= 'ppltrst', by= 'cntry')"
      ],
      "execution_count": 33,
      "outputs": [
        {
          "output_type": "execute_result",
          "data": {
            "text/plain": [
              "<matplotlib.axes._subplots.AxesSubplot at 0x7f4adee62a58>"
            ]
          },
          "metadata": {
            "tags": []
          },
          "execution_count": 33
        },
        {
          "output_type": "display_data",
          "data": {
            "image/png": "[encoded data removed]",
            "text/plain": [
              "<Figure size 432x288 with 1 Axes>"
            ]
          },
          "metadata": {
            "tags": []
          }
        },
        {
          "output_type": "display_data",
          "data": {
            "image/png": "[encoded data removed]",
            "text/plain": [
              "<Figure size 432x288 with 1 Axes>"
            ]
          },
          "metadata": {
            "tags": []
          }
        }
      ]
    },
    {
      "cell_type": "code",
      "metadata": {
        "colab_type": "code",
        "outputId": "31128c11-17dd-46bd-9f5a-995bdc816f46",
        "id": "jlqWGuOaZss6",
        "colab": {
          "base_uri": "https://localhost:8080/",
          "height": 33
        }
      },
      "source": [
        "dg_2014['cntry'].unique()"
      ],
      "execution_count": 34,
      "outputs": [
        {
          "output_type": "execute_result",
          "data": {
            "text/plain": [
              "array(['CH', 'CZ', 'DE', 'ES', 'NO', 'SE'], dtype=object)"
            ]
          },
          "metadata": {
            "tags": []
          },
          "execution_count": 34
        }
      ]
    },
    {
      "cell_type": "code",
      "metadata": {
        "colab_type": "code",
        "id": "G9iMXFeGZjQK",
        "colab": {}
      },
      "source": [
        "\n",
        "dg_2012_CH = dg_2012[dg_2012['cntry']=='CH']\n",
        "dg_2014_CH = dg_2014[dg_2014['cntry'] == 'CH']\n",
        "\n",
        "dg_2012_CZ = dg_2012[dg_2012['cntry']=='CZ']\n",
        "dg_2014_CZ = dg_2014[dg_2014['cntry'] == 'CZ']\n",
        "\n",
        "dg_2012_DE = dg_2012[dg_2012['cntry']=='DE']\n",
        "dg_2014_DE = dg_2014[dg_2014['cntry'] == 'DE']\n",
        "\n",
        "dg_2012_ES = dg_2012[dg_2012['cntry']=='ES']\n",
        "dg_2014_ES = dg_2014[dg_2014['cntry'] == 'ES']\n",
        "\n",
        "dg_2012_NO = dg_2012[dg_2012['cntry']=='NO']\n",
        "dg_2014_NO = dg_2014[dg_2014['cntry'] == 'NO']\n",
        "\n",
        "dg_2012_SE = dg_2012[dg_2012['cntry']=='SE']\n",
        "dg_2014_SE = dg_2014[dg_2014['cntry'] == 'SE']\n",
        "\n",
        "dg_2012_CH = dg_2012_CH.dropna()\n",
        "dg_2014_CH = dg_2014_CH.dropna() \n",
        "\n",
        "dg_2012_CZ = dg_2012_CZ.dropna()\n",
        "dg_2014_CZ = dg_2014_CZ.dropna() \n",
        "\n",
        "dg_2012_DE = dg_2012_DE.dropna()\n",
        "dg_2014_DE = dg_2014_DE.dropna()\n",
        "\n",
        "dg_2012_ES = dg_2012_ES.dropna()\n",
        "dg_2014_ES = dg_2014_ES.dropna()\n",
        "\n",
        "dg_2012_NO = dg_2012_NO.dropna()\n",
        "dg_2014_NO = dg_2014_NO.dropna()\n",
        "\n",
        "dg_2012_SE = dg_2012_NO.dropna()\n",
        "dg_2014_SE = dg_2014_NO.dropna()"
      ],
      "execution_count": 0,
      "outputs": []
    },
    {
      "cell_type": "code",
      "metadata": {
        "id": "rOWNSItd2A4_",
        "colab_type": "code",
        "outputId": "82901f48-1ae1-44dc-a65f-118ea74d2227",
        "colab": {
          "base_uri": "https://localhost:8080/",
          "height": 2254
        }
      },
      "source": [
        "fig = plt.figure(figsize=(10, 40)) \n",
        "\n",
        "plt.subplot(6,2,1)\n",
        "plt.boxplot(dg_2012_CH['ppltrst'])\n",
        "plt.title('CH trust in 2012')\n",
        "\n",
        "plt.subplot(6,2,2)\n",
        "plt.boxplot(dg_2014_CH['ppltrst'])\n",
        "plt.title('CH trust in 2014')\n",
        "plt.show\n",
        "\n",
        "plt.subplot(6,2,3)\n",
        "plt.boxplot(dg_2012_CZ['ppltrst'])\n",
        "plt.title('CZ trust in 2012')\n",
        "\n",
        "plt.subplot(6,2,4)\n",
        "plt.boxplot(dg_2014_CZ['ppltrst'])\n",
        "plt.title('CZ trust in 2014')\n",
        "plt.show\n",
        "\n",
        "plt.subplot(6,2,5)\n",
        "plt.boxplot(dg_2012_DE['ppltrst'])\n",
        "plt.title('DE trust in 2012')\n",
        "\n",
        "plt.subplot(6,2,6)\n",
        "plt.boxplot(dg_2014_DE['ppltrst'])\n",
        "plt.title('DE trust in 2014')\n",
        "plt.show\n",
        "\n",
        "\n",
        "plt.subplot(6,2,7)\n",
        "plt.boxplot(dg_2012_ES['ppltrst'])\n",
        "plt.title('ES trust in 2012')\n",
        "\n",
        "plt.subplot(6,2,8)\n",
        "plt.boxplot(dg_2014_ES['ppltrst'])\n",
        "plt.title('ES trust in 2014')\n",
        "plt.show\n",
        "\n",
        "plt.subplot(6,2,9)\n",
        "plt.boxplot(dg_2012_NO['ppltrst'])\n",
        "plt.title('NO trust in 2012')\n",
        "\n",
        "plt.subplot(6,2,10)\n",
        "plt.boxplot(dg_2014_NO['ppltrst'])\n",
        "plt.title('NO trust in 2014')\n",
        "plt.show\n",
        "\n",
        "plt.subplot(6,2,11)\n",
        "plt.boxplot(dg_2012_SE['ppltrst'])\n",
        "plt.title('SE trust in 2012')\n",
        "\n",
        "plt.subplot(6,2,12)\n",
        "plt.boxplot(dg_2014_SE['ppltrst'])\n",
        "plt.title('SE trust in 2014')\n",
        "plt.show\n"
      ],
      "execution_count": 36,
      "outputs": [
        {
          "output_type": "execute_result",
          "data": {
            "text/plain": [
              "<function matplotlib.pyplot.show>"
            ]
          },
          "metadata": {
            "tags": []
          },
          "execution_count": 36
        },
        {
          "output_type": "display_data",
          "data": {
            "image/png": "[encoded data removed]",
            "text/plain": [
              "<Figure size 720x2880 with 12 Axes>"
            ]
          },
          "metadata": {
            "tags": []
          }
        }
      ]
    },
    {
      "cell_type": "code",
      "metadata": {
        "id": "7xbOmM_7s_jz",
        "colab_type": "code",
        "outputId": "0f1f4d62-a02a-40d5-bbb6-8b255345eae1",
        "colab": {
          "base_uri": "https://localhost:8080/",
          "height": 50
        }
      },
      "source": [
        "#one way anova comparing all values\n",
        "F, p = stats.f_oneway(\n",
        "    dg_2012_CH['ppltrst'],\n",
        "    dg_2014_CH['ppltrst'], \n",
        "    dg_2012_CZ['ppltrst'],\n",
        "    dg_2014_CZ['ppltrst'],\n",
        "    dg_2012_DE['ppltrst'],\n",
        "    dg_2014_DE['ppltrst'],\n",
        "    dg_2012_ES['ppltrst'],\n",
        "    dg_2014_ES['ppltrst'],\n",
        "    dg_2012_NO['ppltrst'],\n",
        "    dg_2014_NO['ppltrst'],\n",
        "    dg_2012_SE['ppltrst'],\n",
        "    dg_2014_SE['ppltrst'],)\n",
        "\n",
        "print('F value: ', F)\n",
        "print('p value:', p)"
      ],
      "execution_count": 37,
      "outputs": [
        {
          "output_type": "stream",
          "text": [
            "F value:  119.92434714957281\n",
            "p value: 8.684272001511437e-255\n"
          ],
          "name": "stdout"
        }
      ]
    },
    {
      "cell_type": "markdown",
      "metadata": {
        "id": "NCS-BNkBbKXZ",
        "colab_type": "text"
      },
      "source": [
        "Comparing all countries and all years, there is a significant difference among this group for trust between 2012 and 2014"
      ]
    },
    {
      "cell_type": "code",
      "metadata": {
        "id": "_x7u7oRYy-oH",
        "colab_type": "code",
        "outputId": "105c3483-8caa-4ff8-bbe4-f963c8525155",
        "colab": {
          "base_uri": "https://localhost:8080/",
          "height": 117
        }
      },
      "source": [
        "#Trust changes from 2012 to 2014\n",
        "\n",
        "print ('CH t-test for trust:', stats.ttest_ind(dg_2012_CH['ppltrst'], dg_2014_CH['ppltrst']))\n",
        "print ('CZ t-test for trust:', stats.ttest_ind(dg_2012_CZ['ppltrst'], dg_2014_CZ['ppltrst']))\n",
        "print ('DE t-test for trust:', stats.ttest_ind(dg_2012_DE['ppltrst'], dg_2014_DE['ppltrst']))\n",
        "print ('ES t-test for trust:', stats.ttest_ind(dg_2012_ES['ppltrst'], dg_2014_ES['ppltrst']))\n",
        "print ('NO t-test for trust:', stats.ttest_ind(dg_2012_NO['ppltrst'], dg_2014_NO['ppltrst']))\n",
        "print ('SE t-test for trust:', stats.ttest_ind(dg_2012_SE['ppltrst'], dg_2014_SE['ppltrst']))"
      ],
      "execution_count": 38,
      "outputs": [
        {
          "output_type": "stream",
          "text": [
            "CH t-test for trust: Ttest_indResult(statistic=-0.7156974792217816, pvalue=0.4742916002909491)\n",
            "CZ t-test for trust: Ttest_indResult(statistic=0.34075433231518504, pvalue=0.7333479315909976)\n",
            "DE t-test for trust: Ttest_indResult(statistic=-0.3466213170125284, pvalue=0.7317764273785732)\n",
            "ES t-test for trust: Ttest_indResult(statistic=2.1000674443244907, pvalue=0.03583204193521363)\n",
            "NO t-test for trust: Ttest_indResult(statistic=0.5119224181145228, pvalue=0.6087850218131978)\n",
            "SE t-test for trust: Ttest_indResult(statistic=0.5119224181145228, pvalue=0.6087850218131978)\n"
          ],
          "name": "stdout"
        }
      ]
    },
    {
      "cell_type": "markdown",
      "metadata": {
        "id": "PWhYKKBfb_13",
        "colab_type": "text"
      },
      "source": [
        "##There was a significant descrease in trust in Spain between 2012 and 2014. No other country experienced a significant change in this category"
      ]
    },
    {
      "cell_type": "code",
      "metadata": {
        "colab_type": "code",
        "outputId": "b1c71111-8321-48e6-af7d-5a1a3747f5f5",
        "id": "4V-AHcueZit-",
        "colab": {
          "base_uri": "https://localhost:8080/",
          "height": 2254
        }
      },
      "source": [
        "fig = plt.figure(figsize=(10, 40)) \n",
        "\n",
        "plt.subplot(6,2,1)\n",
        "plt.boxplot(dg_2012_CH['happy'])\n",
        "plt.title('CH happy in 2012')\n",
        "\n",
        "plt.subplot(6,2,2)\n",
        "plt.boxplot(dg_2014_CH['happy'])\n",
        "plt.title('CH happy in 2014')\n",
        "plt.show\n",
        "\n",
        "plt.subplot(6,2,3)\n",
        "plt.boxplot(dg_2012_CZ['happy'])\n",
        "plt.title('CZ happy in 2012')\n",
        "\n",
        "plt.subplot(6,2,4)\n",
        "plt.boxplot(dg_2014_CZ['happy'])\n",
        "plt.title('CZ happy in 2014')\n",
        "plt.show\n",
        "\n",
        "plt.subplot(6,2,5)\n",
        "plt.boxplot(dg_2012_DE['happy'])\n",
        "plt.title('DE happy in 2012')\n",
        "\n",
        "plt.subplot(6,2,6)\n",
        "plt.boxplot(dg_2014_DE['happy'])\n",
        "plt.title('DE happy in 2014')\n",
        "plt.show\n",
        "\n",
        "\n",
        "plt.subplot(6,2,7)\n",
        "plt.boxplot(dg_2012_ES['happy'])\n",
        "plt.title('ES happy in 2012')\n",
        "\n",
        "plt.subplot(6,2,8)\n",
        "plt.boxplot(dg_2014_ES['happy'])\n",
        "plt.title('ES happy in 2014')\n",
        "plt.show\n",
        "\n",
        "plt.subplot(6,2,9)\n",
        "plt.boxplot(dg_2012_NO['happy'])\n",
        "plt.title('NO happy in 2012')\n",
        "\n",
        "plt.subplot(6,2,10)\n",
        "plt.boxplot(dg_2014_NO['happy'])\n",
        "plt.title('NO happy in 2014')\n",
        "plt.show\n",
        "\n",
        "plt.subplot(6,2,11)\n",
        "plt.boxplot(dg_2012_SE['happy'])\n",
        "plt.title('SE happy in 2012')\n",
        "\n",
        "plt.subplot(6,2,12)\n",
        "plt.boxplot(dg_2014_SE['happy'])\n",
        "plt.title('SE happy in 2014')\n",
        "plt.show\n",
        "\n"
      ],
      "execution_count": 39,
      "outputs": [
        {
          "output_type": "execute_result",
          "data": {
            "text/plain": [
              "<function matplotlib.pyplot.show>"
            ]
          },
          "metadata": {
            "tags": []
          },
          "execution_count": 39
        },
        {
          "output_type": "display_data",
          "data": {
            "image/png": "[encoded data removed]",
            "text/plain": [
              "<Figure size 720x2880 with 12 Axes>"
            ]
          },
          "metadata": {
            "tags": []
          }
        }
      ]
    },
    {
      "cell_type": "code",
      "metadata": {
        "id": "hGwaqsEyc-Pg",
        "colab_type": "code",
        "outputId": "d787b168-2773-423a-888d-37d09117939a",
        "colab": {
          "base_uri": "https://localhost:8080/",
          "height": 602
        }
      },
      "source": [
        "\n",
        "dg_2012.boxplot(column ='happy', by = 'cntry')\n",
        "\n",
        "\n",
        "dg_2014.boxplot(column= 'happy', by= 'cntry')"
      ],
      "execution_count": 40,
      "outputs": [
        {
          "output_type": "execute_result",
          "data": {
            "text/plain": [
              "<matplotlib.axes._subplots.AxesSubplot at 0x7f4adede04e0>"
            ]
          },
          "metadata": {
            "tags": []
          },
          "execution_count": 40
        },
        {
          "output_type": "display_data",
          "data": {
            "image/png": "[encoded data removed]",
            "text/plain": [
              "<Figure size 432x288 with 1 Axes>"
            ]
          },
          "metadata": {
            "tags": []
          }
        },
        {
          "output_type": "display_data",
          "data": {
            "image/png": "[encoded data removed]",
            "text/plain": [
              "<Figure size 432x288 with 1 Axes>"
            ]
          },
          "metadata": {
            "tags": []
          }
        }
      ]
    },
    {
      "cell_type": "code",
      "metadata": {
        "id": "-HrJshOecgkY",
        "colab_type": "code",
        "outputId": "a491ee34-e8ab-4bb4-f0af-b2450a45ee03",
        "colab": {
          "base_uri": "https://localhost:8080/",
          "height": 117
        }
      },
      "source": [
        "print ('CH t-test for trust:', stats.ttest_ind(dg_2012_CH['happy'], dg_2014_CH['happy']))\n",
        "print ('CZ t-test for trust:', stats.ttest_ind(dg_2012_CZ['happy'], dg_2014_CZ['happy']))\n",
        "print ('DE t-test for trust:', stats.ttest_ind(dg_2012_DE['happy'], dg_2014_DE['happy']))\n",
        "print ('ES t-test for trust:', stats.ttest_ind(dg_2012_ES['happy'], dg_2014_ES['happy']))\n",
        "print ('NO t-test for trust:', stats.ttest_ind(dg_2012_NO['happy'], dg_2014_NO['happy']))\n",
        "print ('SE t-test for trust:', stats.ttest_ind(dg_2012_SE['happy'], dg_2014_SE['happy']))"
      ],
      "execution_count": 41,
      "outputs": [
        {
          "output_type": "stream",
          "text": [
            "CH t-test for trust: Ttest_indResult(statistic=-0.812142488327401, pvalue=0.4168411011770018)\n",
            "CZ t-test for trust: Ttest_indResult(statistic=-1.1592536826704618, pvalue=0.24658245820500238)\n",
            "DE t-test for trust: Ttest_indResult(statistic=-0.966317541228559, pvalue=0.3431409128727073)\n",
            "ES t-test for trust: Ttest_indResult(statistic=1.3750588408504656, pvalue=0.16924771370417369)\n",
            "NO t-test for trust: Ttest_indResult(statistic=4.152957205997266, pvalue=3.4778681704487346e-05)\n",
            "SE t-test for trust: Ttest_indResult(statistic=4.152957205997266, pvalue=3.4778681704487346e-05)\n"
          ],
          "name": "stdout"
        }
      ]
    },
    {
      "cell_type": "code",
      "metadata": {
        "id": "ltW1-y_YdEj7",
        "colab_type": "code",
        "outputId": "9bfb64e7-9fd3-4a51-d2d7-3a06c73fe62d",
        "colab": {
          "base_uri": "https://localhost:8080/",
          "height": 83
        }
      },
      "source": [
        "print ('Sweden 2012 happy ave:' , dg_2012_NO['happy'].mean())\n",
        "print ('Norway 2014 happy ave:' , dg_2014_NO['happy'].mean())\n",
        "print ('Sweden 2012 happy ave:' , dg_2012_SE['happy'].mean())\n",
        "print ('Sweden 2014 happy ave:' , dg_2014_SE['happy'].mean())"
      ],
      "execution_count": 42,
      "outputs": [
        {
          "output_type": "stream",
          "text": [
            "Norway 2012 happy ave: 8.252824858757062\n",
            "Norway 2014 happy ave: 7.919943820224719\n",
            "Sweden 2012 happy ave: 8.252824858757062\n",
            "Sweden 2014 happy ave: 7.919943820224719\n"
          ],
          "name": "stdout"
        }
      ]
    },
    {
      "cell_type": "markdown",
      "metadata": {
        "id": "XT26VbByeVc2",
        "colab_type": "text"
      },
      "source": [
        "##From 2012 to 2014 there is a significant change in happiness for Norway and Sweden. I am now seeing a trend that the data for Norway and Sweden are exactly the same and I am wondering what is happening to cause that."
      ]
    },
    {
      "cell_type": "code",
      "metadata": {
        "id": "Oqf6fn3ofkYq",
        "colab_type": "code",
        "outputId": "e70d713e-f2f9-428a-f608-fcbd8032170a",
        "colab": {
          "base_uri": "https://localhost:8080/",
          "height": 287
        }
      },
      "source": [
        "dg_2012_NO.describe()"
      ],
      "execution_count": 43,
      "outputs": [
        {
          "output_type": "execute_result",
          "data": {
            "text/html": [
              "<div>\n",
              "<style scoped>\n",
              "    .dataframe tbody tr th:only-of-type {\n",
              "        vertical-align: middle;\n",
              "    }\n",
              "\n",
              "    .dataframe tbody tr th {\n",
              "        vertical-align: top;\n",
              "    }\n",
              "\n",
              "    .dataframe thead th {\n",
              "        text-align: right;\n",
              "    }\n",
              "</style>\n",
              "<table border=\"1\" class=\"dataframe\">\n",
              "  <thead>\n",
              "    <tr style=\"text-align: right;\">\n",
              "      <th></th>\n",
              "      <th>year</th>\n",
              "      <th>tvtot</th>\n",
              "      <th>ppltrst</th>\n",
              "      <th>pplfair</th>\n",
              "      <th>pplhlp</th>\n",
              "      <th>happy</th>\n",
              "      <th>sclmeet</th>\n",
              "      <th>sclact</th>\n",
              "      <th>gndr</th>\n",
              "      <th>agea</th>\n",
              "      <th>partner</th>\n",
              "    </tr>\n",
              "  </thead>\n",
              "  <tbody>\n",
              "    <tr>\n",
              "      <th>count</th>\n",
              "      <td>708.0</td>\n",
              "      <td>708.000000</td>\n",
              "      <td>708.000000</td>\n",
              "      <td>708.000000</td>\n",
              "      <td>708.000000</td>\n",
              "      <td>708.000000</td>\n",
              "      <td>708.000000</td>\n",
              "      <td>708.000000</td>\n",
              "      <td>708.000000</td>\n",
              "      <td>708.000000</td>\n",
              "      <td>708.000000</td>\n",
              "    </tr>\n",
              "    <tr>\n",
              "      <th>mean</th>\n",
              "      <td>6.0</td>\n",
              "      <td>3.798023</td>\n",
              "      <td>6.648305</td>\n",
              "      <td>6.919492</td>\n",
              "      <td>6.097458</td>\n",
              "      <td>8.252825</td>\n",
              "      <td>5.563559</td>\n",
              "      <td>2.967514</td>\n",
              "      <td>1.474576</td>\n",
              "      <td>46.086158</td>\n",
              "      <td>1.347458</td>\n",
              "    </tr>\n",
              "    <tr>\n",
              "      <th>std</th>\n",
              "      <td>0.0</td>\n",
              "      <td>1.893978</td>\n",
              "      <td>1.755745</td>\n",
              "      <td>1.707961</td>\n",
              "      <td>1.827139</td>\n",
              "      <td>1.428020</td>\n",
              "      <td>1.268785</td>\n",
              "      <td>0.754293</td>\n",
              "      <td>0.499706</td>\n",
              "      <td>17.701587</td>\n",
              "      <td>0.476499</td>\n",
              "    </tr>\n",
              "    <tr>\n",
              "      <th>min</th>\n",
              "      <td>6.0</td>\n",
              "      <td>0.000000</td>\n",
              "      <td>0.000000</td>\n",
              "      <td>0.000000</td>\n",
              "      <td>0.000000</td>\n",
              "      <td>0.000000</td>\n",
              "      <td>1.000000</td>\n",
              "      <td>1.000000</td>\n",
              "      <td>1.000000</td>\n",
              "      <td>15.000000</td>\n",
              "      <td>1.000000</td>\n",
              "    </tr>\n",
              "    <tr>\n",
              "      <th>25%</th>\n",
              "      <td>6.0</td>\n",
              "      <td>2.000000</td>\n",
              "      <td>5.000000</td>\n",
              "      <td>6.000000</td>\n",
              "      <td>5.000000</td>\n",
              "      <td>8.000000</td>\n",
              "      <td>5.000000</td>\n",
              "      <td>3.000000</td>\n",
              "      <td>1.000000</td>\n",
              "      <td>32.000000</td>\n",
              "      <td>1.000000</td>\n",
              "    </tr>\n",
              "    <tr>\n",
              "      <th>50%</th>\n",
              "      <td>6.0</td>\n",
              "      <td>4.000000</td>\n",
              "      <td>7.000000</td>\n",
              "      <td>7.000000</td>\n",
              "      <td>6.000000</td>\n",
              "      <td>8.000000</td>\n",
              "      <td>6.000000</td>\n",
              "      <td>3.000000</td>\n",
              "      <td>1.000000</td>\n",
              "      <td>46.000000</td>\n",
              "      <td>1.000000</td>\n",
              "    </tr>\n",
              "    <tr>\n",
              "      <th>75%</th>\n",
              "      <td>6.0</td>\n",
              "      <td>5.000000</td>\n",
              "      <td>8.000000</td>\n",
              "      <td>8.000000</td>\n",
              "      <td>7.000000</td>\n",
              "      <td>9.000000</td>\n",
              "      <td>6.000000</td>\n",
              "      <td>3.000000</td>\n",
              "      <td>2.000000</td>\n",
              "      <td>60.000000</td>\n",
              "      <td>2.000000</td>\n",
              "    </tr>\n",
              "    <tr>\n",
              "      <th>max</th>\n",
              "      <td>6.0</td>\n",
              "      <td>7.000000</td>\n",
              "      <td>10.000000</td>\n",
              "      <td>10.000000</td>\n",
              "      <td>10.000000</td>\n",
              "      <td>10.000000</td>\n",
              "      <td>7.000000</td>\n",
              "      <td>5.000000</td>\n",
              "      <td>2.000000</td>\n",
              "      <td>93.000000</td>\n",
              "      <td>2.000000</td>\n",
              "    </tr>\n",
              "  </tbody>\n",
              "</table>\n",
              "</div>"
            ],
            "text/plain": [
              "        year       tvtot     ppltrst  ...        gndr        agea     partner\n",
              "count  708.0  708.000000  708.000000  ...  708.000000  708.000000  708.000000\n",
              "mean     6.0    3.798023    6.648305  ...    1.474576   46.086158    1.347458\n",
              "std      0.0    1.893978    1.755745  ...    0.499706   17.701587    0.476499\n",
              "min      6.0    0.000000    0.000000  ...    1.000000   15.000000    1.000000\n",
              "25%      6.0    2.000000    5.000000  ...    1.000000   32.000000    1.000000\n",
              "50%      6.0    4.000000    7.000000  ...    1.000000   46.000000    1.000000\n",
              "75%      6.0    5.000000    8.000000  ...    2.000000   60.000000    2.000000\n",
              "max      6.0    7.000000   10.000000  ...    2.000000   93.000000    2.000000\n",
              "\n",
              "[8 rows x 11 columns]"
            ]
          },
          "metadata": {
            "tags": []
          },
          "execution_count": 43
        }
      ]
    },
    {
      "cell_type": "code",
      "metadata": {
        "id": "qbTefVQbf677",
        "colab_type": "code",
        "outputId": "3a8e443a-7d7b-426b-a2fd-81b4a9c92763",
        "colab": {
          "base_uri": "https://localhost:8080/",
          "height": 287
        }
      },
      "source": [
        "dg_2012_SE.describe()"
      ],
      "execution_count": 44,
      "outputs": [
        {
          "output_type": "execute_result",
          "data": {
            "text/html": [
              "<div>\n",
              "<style scoped>\n",
              "    .dataframe tbody tr th:only-of-type {\n",
              "        vertical-align: middle;\n",
              "    }\n",
              "\n",
              "    .dataframe tbody tr th {\n",
              "        vertical-align: top;\n",
              "    }\n",
              "\n",
              "    .dataframe thead th {\n",
              "        text-align: right;\n",
              "    }\n",
              "</style>\n",
              "<table border=\"1\" class=\"dataframe\">\n",
              "  <thead>\n",
              "    <tr style=\"text-align: right;\">\n",
              "      <th></th>\n",
              "      <th>year</th>\n",
              "      <th>tvtot</th>\n",
              "      <th>ppltrst</th>\n",
              "      <th>pplfair</th>\n",
              "      <th>pplhlp</th>\n",
              "      <th>happy</th>\n",
              "      <th>sclmeet</th>\n",
              "      <th>sclact</th>\n",
              "      <th>gndr</th>\n",
              "      <th>agea</th>\n",
              "      <th>partner</th>\n",
              "    </tr>\n",
              "  </thead>\n",
              "  <tbody>\n",
              "    <tr>\n",
              "      <th>count</th>\n",
              "      <td>708.0</td>\n",
              "      <td>708.000000</td>\n",
              "      <td>708.000000</td>\n",
              "      <td>708.000000</td>\n",
              "      <td>708.000000</td>\n",
              "      <td>708.000000</td>\n",
              "      <td>708.000000</td>\n",
              "      <td>708.000000</td>\n",
              "      <td>708.000000</td>\n",
              "      <td>708.000000</td>\n",
              "      <td>708.000000</td>\n",
              "    </tr>\n",
              "    <tr>\n",
              "      <th>mean</th>\n",
              "      <td>6.0</td>\n",
              "      <td>3.798023</td>\n",
              "      <td>6.648305</td>\n",
              "      <td>6.919492</td>\n",
              "      <td>6.097458</td>\n",
              "      <td>8.252825</td>\n",
              "      <td>5.563559</td>\n",
              "      <td>2.967514</td>\n",
              "      <td>1.474576</td>\n",
              "      <td>46.086158</td>\n",
              "      <td>1.347458</td>\n",
              "    </tr>\n",
              "    <tr>\n",
              "      <th>std</th>\n",
              "      <td>0.0</td>\n",
              "      <td>1.893978</td>\n",
              "      <td>1.755745</td>\n",
              "      <td>1.707961</td>\n",
              "      <td>1.827139</td>\n",
              "      <td>1.428020</td>\n",
              "      <td>1.268785</td>\n",
              "      <td>0.754293</td>\n",
              "      <td>0.499706</td>\n",
              "      <td>17.701587</td>\n",
              "      <td>0.476499</td>\n",
              "    </tr>\n",
              "    <tr>\n",
              "      <th>min</th>\n",
              "      <td>6.0</td>\n",
              "      <td>0.000000</td>\n",
              "      <td>0.000000</td>\n",
              "      <td>0.000000</td>\n",
              "      <td>0.000000</td>\n",
              "      <td>0.000000</td>\n",
              "      <td>1.000000</td>\n",
              "      <td>1.000000</td>\n",
              "      <td>1.000000</td>\n",
              "      <td>15.000000</td>\n",
              "      <td>1.000000</td>\n",
              "    </tr>\n",
              "    <tr>\n",
              "      <th>25%</th>\n",
              "      <td>6.0</td>\n",
              "      <td>2.000000</td>\n",
              "      <td>5.000000</td>\n",
              "      <td>6.000000</td>\n",
              "      <td>5.000000</td>\n",
              "      <td>8.000000</td>\n",
              "      <td>5.000000</td>\n",
              "      <td>3.000000</td>\n",
              "      <td>1.000000</td>\n",
              "      <td>32.000000</td>\n",
              "      <td>1.000000</td>\n",
              "    </tr>\n",
              "    <tr>\n",
              "      <th>50%</th>\n",
              "      <td>6.0</td>\n",
              "      <td>4.000000</td>\n",
              "      <td>7.000000</td>\n",
              "      <td>7.000000</td>\n",
              "      <td>6.000000</td>\n",
              "      <td>8.000000</td>\n",
              "      <td>6.000000</td>\n",
              "      <td>3.000000</td>\n",
              "      <td>1.000000</td>\n",
              "      <td>46.000000</td>\n",
              "      <td>1.000000</td>\n",
              "    </tr>\n",
              "    <tr>\n",
              "      <th>75%</th>\n",
              "      <td>6.0</td>\n",
              "      <td>5.000000</td>\n",
              "      <td>8.000000</td>\n",
              "      <td>8.000000</td>\n",
              "      <td>7.000000</td>\n",
              "      <td>9.000000</td>\n",
              "      <td>6.000000</td>\n",
              "      <td>3.000000</td>\n",
              "      <td>2.000000</td>\n",
              "      <td>60.000000</td>\n",
              "      <td>2.000000</td>\n",
              "    </tr>\n",
              "    <tr>\n",
              "      <th>max</th>\n",
              "      <td>6.0</td>\n",
              "      <td>7.000000</td>\n",
              "      <td>10.000000</td>\n",
              "      <td>10.000000</td>\n",
              "      <td>10.000000</td>\n",
              "      <td>10.000000</td>\n",
              "      <td>7.000000</td>\n",
              "      <td>5.000000</td>\n",
              "      <td>2.000000</td>\n",
              "      <td>93.000000</td>\n",
              "      <td>2.000000</td>\n",
              "    </tr>\n",
              "  </tbody>\n",
              "</table>\n",
              "</div>"
            ],
            "text/plain": [
              "        year       tvtot     ppltrst  ...        gndr        agea     partner\n",
              "count  708.0  708.000000  708.000000  ...  708.000000  708.000000  708.000000\n",
              "mean     6.0    3.798023    6.648305  ...    1.474576   46.086158    1.347458\n",
              "std      0.0    1.893978    1.755745  ...    0.499706   17.701587    0.476499\n",
              "min      6.0    0.000000    0.000000  ...    1.000000   15.000000    1.000000\n",
              "25%      6.0    2.000000    5.000000  ...    1.000000   32.000000    1.000000\n",
              "50%      6.0    4.000000    7.000000  ...    1.000000   46.000000    1.000000\n",
              "75%      6.0    5.000000    8.000000  ...    2.000000   60.000000    2.000000\n",
              "max      6.0    7.000000   10.000000  ...    2.000000   93.000000    2.000000\n",
              "\n",
              "[8 rows x 11 columns]"
            ]
          },
          "metadata": {
            "tags": []
          },
          "execution_count": 44
        }
      ]
    },
    {
      "cell_type": "code",
      "metadata": {
        "id": "8DDZNeHef-D8",
        "colab_type": "code",
        "colab": {}
      },
      "source": [
        ""
      ],
      "execution_count": 0,
      "outputs": []
    },
    {
      "cell_type": "markdown",
      "metadata": {
        "id": "d-GQZLORgD1G",
        "colab_type": "text"
      },
      "source": [
        "#TV and gender"
      ]
    },
    {
      "cell_type": "code",
      "metadata": {
        "id": "0aK1L5NggF3H",
        "colab_type": "code",
        "colab": {}
      },
      "source": [
        "dg_2012_F = dg_2012[dg_2012['gndr']==2]\n",
        "dg_2012_M = dg_2012[dg_2012['gndr']==1]\n",
        "dg_2014_F = dg_2014[dg_2014['gndr']==2]\n",
        "dg_2014_M = dg_2014[dg_2014['gndr']==1]"
      ],
      "execution_count": 0,
      "outputs": []
    },
    {
      "cell_type": "code",
      "metadata": {
        "id": "txmqe3lIgkm0",
        "colab_type": "code",
        "outputId": "36c88e50-fdba-4e81-d863-8322a160a158",
        "colab": {
          "base_uri": "https://localhost:8080/",
          "height": 314
        }
      },
      "source": [
        "dg_2012_F.hist('tvtot')"
      ],
      "execution_count": 46,
      "outputs": [
        {
          "output_type": "execute_result",
          "data": {
            "text/plain": [
              "array([[<matplotlib.axes._subplots.AxesSubplot object at 0x7f4adef77f60>]],\n",
              "      dtype=object)"
            ]
          },
          "metadata": {
            "tags": []
          },
          "execution_count": 46
        },
        {
          "output_type": "display_data",
          "data": {
            "image/png": "[encoded data removed]",
            "text/plain": [
              "<Figure size 432x288 with 1 Axes>"
            ]
          },
          "metadata": {
            "tags": []
          }
        }
      ]
    },
    {
      "cell_type": "code",
      "metadata": {
        "id": "WZwyy1rYg4lD",
        "colab_type": "code",
        "outputId": "1b6ed314-ff6e-4358-af35-44d0fc1705cb",
        "colab": {
          "base_uri": "https://localhost:8080/",
          "height": 314
        }
      },
      "source": [
        "dg_2012_M.hist('tvtot')"
      ],
      "execution_count": 47,
      "outputs": [
        {
          "output_type": "execute_result",
          "data": {
            "text/plain": [
              "array([[<matplotlib.axes._subplots.AxesSubplot object at 0x7f4adec25128>]],\n",
              "      dtype=object)"
            ]
          },
          "metadata": {
            "tags": []
          },
          "execution_count": 47
        },
        {
          "output_type": "display_data",
          "data": {
            "image/png": "[encoded data removed]",
            "text/plain": [
              "<Figure size 432x288 with 1 Axes>"
            ]
          },
          "metadata": {
            "tags": []
          }
        }
      ]
    },
    {
      "cell_type": "code",
      "metadata": {
        "id": "xKQzrhN0g82A",
        "colab_type": "code",
        "outputId": "54c69987-2ce4-4ed7-ac06-0654eba77e7c",
        "colab": {
          "base_uri": "https://localhost:8080/",
          "height": 67
        }
      },
      "source": [
        "print ('T-test to compare genders and TV watching in 2012', stats.ttest_ind(dg_2012_F['tvtot'], dg_2014_M['tvtot']))\n",
        "print ('Female Ave tv:', dg_2012_F['tvtot'].mean())\n",
        "print ('Male Ave tv:', dg_2012_M['tvtot'].mean())\n"
      ],
      "execution_count": 48,
      "outputs": [
        {
          "output_type": "stream",
          "text": [
            "T-test to compare genders and TV watching in 2012 Ttest_indResult(statistic=3.141252824358729, pvalue=0.0016943491516580205)\n",
            "Female Ave tv: 3.9053518334985133\n",
            "Male Ave tv: 3.8592303945445687\n"
          ],
          "name": "stdout"
        }
      ]
    },
    {
      "cell_type": "markdown",
      "metadata": {
        "id": "moXmhwK2kTSq",
        "colab_type": "text"
      },
      "source": [
        "##Females watch significantly more tv than males in 2012 but this data is not evenly distributed, a caveat of the t-test. Therefore we need to do a different test."
      ]
    },
    {
      "cell_type": "code",
      "metadata": {
        "id": "OZLi4T5Bm6Bh",
        "colab_type": "code",
        "colab": {
          "base_uri": "https://localhost:8080/",
          "height": 50
        },
        "outputId": "b276d864-3ac7-43d5-b24a-a91a46afdd01"
      },
      "source": [
        "females = dg_2012_F['tvtot']\n",
        "males = dg_2012_M['tvtot']\n",
        "\n",
        "list(females)\n",
        "list(males)\n",
        "\n",
        "print (len(females))\n",
        "print (len(males))"
      ],
      "execution_count": 49,
      "outputs": [
        {
          "output_type": "stream",
          "text": [
            "2018\n",
            "2053\n"
          ],
          "name": "stdout"
        }
      ]
    },
    {
      "cell_type": "code",
      "metadata": {
        "id": "vUUiWB74kiwr",
        "colab_type": "code",
        "outputId": "7b69ec46-d5c6-4c2d-b48e-65cd6cacf9fd",
        "colab": {
          "base_uri": "https://localhost:8080/",
          "height": 33
        }
      },
      "source": [
        "# # Join all ratings together into a list, then ranking them.\n",
        "# ranks = stats.rankdata(\n",
        "    \n",
        "#     females.tolist() +\n",
        "#     males.tolist()\n",
        "# )\n",
        "\n",
        "# # Add the new ranked variables to the data frame.\n",
        "# females = ranks[0:2018]\n",
        "# males = ranks[2018:]\n",
        "\n",
        "\n",
        "# Average rank per group.\n",
        "#groups = ['females', 'males']\n",
        "#print(tv[groups].apply(np.mean))\n",
        "\n",
        "# Overall average rank.\n",
        "#print(np.mean(ranks))\n",
        "\n",
        "# Print the test statistic followed by the probability of getting this result\n",
        "# if the groups were not different.\n",
        "stats.kruskal(\n",
        "    females,\n",
        "    males)"
      ],
      "execution_count": 50,
      "outputs": [
        {
          "output_type": "execute_result",
          "data": {
            "text/plain": [
              "KruskalResult(statistic=0.6145695087428265, pvalue=0.4330724786171142)"
            ]
          },
          "metadata": {
            "tags": []
          },
          "execution_count": 50
        }
      ]
    },
    {
      "cell_type": "markdown",
      "metadata": {
        "id": "izHc5ZHprBt_",
        "colab_type": "text"
      },
      "source": [
        "##According to the Kruskal-Wallis test, there is no difference between the two genders and tv watching"
      ]
    },
    {
      "cell_type": "markdown",
      "metadata": {
        "id": "VM3PI-V-rXNt",
        "colab_type": "text"
      },
      "source": [
        "#Fairness and relationships"
      ]
    },
    {
      "cell_type": "code",
      "metadata": {
        "id": "QSRAhNzCrWaL",
        "colab_type": "code",
        "colab": {}
      },
      "source": [
        "dg_2012_P = dg_2012[dg_2012['partner']==1]\n",
        "dg_2012_NP = dg_2012[dg_2012['partner']==2]"
      ],
      "execution_count": 0,
      "outputs": []
    },
    {
      "cell_type": "code",
      "metadata": {
        "id": "Z3ctVB14sCny",
        "colab_type": "code",
        "colab": {
          "base_uri": "https://localhost:8080/",
          "height": 578
        },
        "outputId": "699d4bb2-1a78-42c5-d81a-1486a25daa5b"
      },
      "source": [
        "print(dg_2012_P.hist('pplfair'))\n",
        "print(dg_2012_NP.hist('pplfair'))"
      ],
      "execution_count": 52,
      "outputs": [
        {
          "output_type": "stream",
          "text": [
            "[[<matplotlib.axes._subplots.AxesSubplot object at 0x7f4adea4c278>]]\n",
            "[[<matplotlib.axes._subplots.AxesSubplot object at 0x7f4ade96d198>]]\n"
          ],
          "name": "stdout"
        },
        {
          "output_type": "display_data",
          "data": {
            "image/png": "[encoded data removed]",
            "text/plain": [
              "<Figure size 432x288 with 1 Axes>"
            ]
          },
          "metadata": {
            "tags": []
          }
        },
        {
          "output_type": "display_data",
          "data": {
            "image/png": "[encoded data removed]",
            "text/plain": [
              "<Figure size 432x288 with 1 Axes>"
            ]
          },
          "metadata": {
            "tags": []
          }
        }
      ]
    },
    {
      "cell_type": "code",
      "metadata": {
        "id": "0Ow9LWp1sMOv",
        "colab_type": "code",
        "colab": {
          "base_uri": "https://localhost:8080/",
          "height": 33
        },
        "outputId": "21d04cac-3b76-4b84-b54a-c6727434cf68"
      },
      "source": [
        "print ('T-test for fairness:', stats.ttest_ind(dg_2012_P['pplfair'], dg_2012_NP['pplfair']))"
      ],
      "execution_count": 53,
      "outputs": [
        {
          "output_type": "stream",
          "text": [
            "T-test for fairness: Ttest_indResult(statistic=3.0430439318464235, pvalue=0.002356936676939248)\n"
          ],
          "name": "stdout"
        }
      ]
    },
    {
      "cell_type": "code",
      "metadata": {
        "id": "LEvJlT_ks6B8",
        "colab_type": "code",
        "colab": {
          "base_uri": "https://localhost:8080/",
          "height": 50
        },
        "outputId": "4656f6fc-52c2-4b03-debd-5c36de648356"
      },
      "source": [
        "print(dg_2012_P['pplfair'].mean())\n",
        "print(dg_2012_NP['pplfair'].mean())"
      ],
      "execution_count": 54,
      "outputs": [
        {
          "output_type": "stream",
          "text": [
            "6.0743509047993705\n",
            "5.86592544146501\n"
          ],
          "name": "stdout"
        }
      ]
    },
    {
      "cell_type": "markdown",
      "metadata": {
        "id": "ZJVkE9KHtJ18",
        "colab_type": "text"
      },
      "source": [
        "##People in relationships thought people were more fair at a significantly higher rate than people living alone."
      ]
    },
    {
      "cell_type": "code",
      "metadata": {
        "id": "znDruTO3tBdO",
        "colab_type": "code",
        "colab": {
          "base_uri": "https://localhost:8080/",
          "height": 859
        },
        "outputId": "69fd92e7-56c7-4976-fc17-c492b2307d47"
      },
      "source": [
        "print(dg_2014_CH.hist('sclmeet'))\n",
        "print(dg_2014_SE.hist('sclmeet'))\n",
        "print(dg_2014_NO.hist('sclmeet'))"
      ],
      "execution_count": 55,
      "outputs": [
        {
          "output_type": "stream",
          "text": [
            "[[<matplotlib.axes._subplots.AxesSubplot object at 0x7f4ade928be0>]]\n",
            "[[<matplotlib.axes._subplots.AxesSubplot object at 0x7f4ade9ffe80>]]\n",
            "[[<matplotlib.axes._subplots.AxesSubplot object at 0x7f4adee75358>]]\n"
          ],
          "name": "stdout"
        },
        {
          "output_type": "display_data",
          "data": {
            "image/png": "[encoded data removed]",
            "text/plain": [
              "<Figure size 432x288 with 1 Axes>"
            ]
          },
          "metadata": {
            "tags": []
          }
        },
        {
          "output_type": "display_data",
          "data": {
            "image/png": "[encoded data removed]",
            "text/plain": [
              "<Figure size 432x288 with 1 Axes>"
            ]
          },
          "metadata": {
            "tags": []
          }
        },
        {
          "output_type": "display_data",
          "data": {
            "image/png": "[encoded data removed]",
            "text/plain": [
              "<Figure size 432x288 with 1 Axes>"
            ]
          },
          "metadata": {
            "tags": []
          }
        }
      ]
    },
    {
      "cell_type": "markdown",
      "metadata": {
        "id": "-Isv42Kt7QxU",
        "colab_type": "text"
      },
      "source": [
        "None of these distributions are normal so we must do another Kruskal-Wallis test to compare them"
      ]
    },
    {
      "cell_type": "code",
      "metadata": {
        "id": "h3GCO9BP6Sll",
        "colab_type": "code",
        "colab": {
          "base_uri": "https://localhost:8080/",
          "height": 33
        },
        "outputId": "ef7f4ab4-4cac-4d9b-ed20-6c68fb479319"
      },
      "source": [
        "stats.kruskal(dg_2014_CH['sclmeet'], dg_2014_SE['sclmeet'], dg_2014_NO['sclmeet'])"
      ],
      "execution_count": 56,
      "outputs": [
        {
          "output_type": "execute_result",
          "data": {
            "text/plain": [
              "KruskalResult(statistic=7.0114408366703165, pvalue=0.030025134893047988)"
            ]
          },
          "metadata": {
            "tags": []
          },
          "execution_count": 56
        }
      ]
    },
    {
      "cell_type": "markdown",
      "metadata": {
        "id": "aUPPUJH876a8",
        "colab_type": "text"
      },
      "source": [
        "There is a difference between the countries in terms of how often they meet socially. Time to do more comparisons to test where the differences lie."
      ]
    },
    {
      "cell_type": "markdown",
      "metadata": {
        "id": "YqeuFNpq8ETD",
        "colab_type": "text"
      },
      "source": [
        "##Switzerland vs Sweden, social meet"
      ]
    },
    {
      "cell_type": "code",
      "metadata": {
        "id": "4q9SdTqT7ztg",
        "colab_type": "code",
        "colab": {
          "base_uri": "https://localhost:8080/",
          "height": 100
        },
        "outputId": "ebf4acd7-92c3-4360-ee2c-8357098baa5e"
      },
      "source": [
        "print (stats.kruskal(dg_2014_CH['sclmeet'], dg_2014_SE['sclmeet']))\n",
        "print ('Switzerland social median:', dg_2014_CH['sclmeet'].median())\n",
        "print ('Sweden social median:', dg_2014_SE['sclmeet'].median())\n",
        "print ('Switzerland social mean:', dg_2014_CH['sclmeet'].mean())\n",
        "print ('Sweden social mean:', dg_2014_SE['sclmeet'].mean())\n",
        "       \n",
        "       "
      ],
      "execution_count": 65,
      "outputs": [
        {
          "output_type": "stream",
          "text": [
            "KruskalResult(statistic=5.221506564712358, pvalue=0.02230921539985552)\n",
            "Switzerland social median: 6.0\n",
            "Sweden social median: 6.0\n",
            "Switzerland social mean: 5.174966352624495\n",
            "Sweden social mean: 5.310393258426966\n"
          ],
          "name": "stdout"
        }
      ]
    },
    {
      "cell_type": "markdown",
      "metadata": {
        "id": "koCXKB9d9EPH",
        "colab_type": "text"
      },
      "source": [
        "This is not very convincing that there is a significant difference between Sweden and Switzerland's social habits since the median number is the same(not unusual) but the mean is so close. Nonetheless, the Kruskal test implies there is a significant difference between the two countries."
      ]
    },
    {
      "cell_type": "markdown",
      "metadata": {
        "id": "7LMxBR589ZAT",
        "colab_type": "text"
      },
      "source": [
        "##Switzerland vs Norway, social meet"
      ]
    },
    {
      "cell_type": "code",
      "metadata": {
        "id": "v5g1QaxE8LsX",
        "colab_type": "code",
        "colab": {
          "base_uri": "https://localhost:8080/",
          "height": 100
        },
        "outputId": "8a5ca7f9-3d71-4989-854a-30a0ae7600f3"
      },
      "source": [
        "print (stats.kruskal(dg_2014_CH['sclmeet'], dg_2014_NO['sclmeet']))\n",
        "print ('Switzerland social median:', dg_2014_CH['sclmeet'].median())\n",
        "print ('Norway social median:', dg_2014_NO['sclmeet'].median())\n",
        "print ('Switzerland social mean:', dg_2014_CH['sclmeet'].mean())\n",
        "print ('Norway social mean:', dg_2014_NO['sclmeet'].mean())\n",
        "       \n",
        "       "
      ],
      "execution_count": 66,
      "outputs": [
        {
          "output_type": "stream",
          "text": [
            "KruskalResult(statistic=5.221506564712358, pvalue=0.02230921539985552)\n",
            "Switzerland social median: 6.0\n",
            "Norway social median: 6.0\n",
            "Switzerland social mean: 5.174966352624495\n",
            "Norway social mean: 5.310393258426966\n"
          ],
          "name": "stdout"
        }
      ]
    },
    {
      "cell_type": "markdown",
      "metadata": {
        "id": "Ta_TWiED9sZU",
        "colab_type": "text"
      },
      "source": [
        "##Norway vs Sweden, social meet"
      ]
    },
    {
      "cell_type": "code",
      "metadata": {
        "id": "Tab1Q9kU9szw",
        "colab_type": "code",
        "colab": {
          "base_uri": "https://localhost:8080/",
          "height": 100
        },
        "outputId": "136498b1-cb52-46aa-d121-28af031e2e6d"
      },
      "source": [
        "print (stats.kruskal(dg_2014_NO['sclmeet'], dg_2014_SE['sclmeet']))\n",
        "print ('Norway social median:', dg_2014_NO['sclmeet'].median())\n",
        "print ('Sweden social median:', dg_2014_SE['sclmeet'].median())\n",
        "print ('Norway social mean:', dg_2014_NO['sclmeet'].mean())\n",
        "print ('Sweden social mean:', dg_2014_SE['sclmeet'].mean())\n",
        "       \n",
        "       "
      ],
      "execution_count": 67,
      "outputs": [
        {
          "output_type": "stream",
          "text": [
            "KruskalResult(statistic=0.0, pvalue=1.0)\n",
            "Norway social median: 6.0\n",
            "Sweden social median: 6.0\n",
            "Norway social mean: 5.310393258426966\n",
            "Sweden social mean: 5.310393258426966\n"
          ],
          "name": "stdout"
        }
      ]
    },
    {
      "cell_type": "markdown",
      "metadata": {
        "id": "b63_n_Cu-b-p",
        "colab_type": "text"
      },
      "source": [
        "##As suspected earlier, Norway and Sweden's data must somehow be duplicated because there is no difference at all in their data and the differences between Norway and Switzerland is the same as the difference between Sweden and Switzerland."
      ]
    },
    {
      "cell_type": "markdown",
      "metadata": {
        "id": "7aE_B1IC-4sT",
        "colab_type": "text"
      },
      "source": [
        "Pick three or four of the countries in the sample and compare how often people took part in social activities, relative to others their age, in 2014. Are there differences, and if so, which countries stand out?"
      ]
    },
    {
      "cell_type": "code",
      "metadata": {
        "id": "TMM7GITiAfdm",
        "colab_type": "code",
        "colab": {
          "base_uri": "https://localhost:8080/",
          "height": 859
        },
        "outputId": "137a1043-b756-46f1-c49d-cc5d7e5b743a"
      },
      "source": [
        "print(dg_2014_DE.hist('sclact'))\n",
        "print(dg_2014_SE.hist('sclact'))\n",
        "print(dg_2014_ES.hist('sclact'))\n"
      ],
      "execution_count": 70,
      "outputs": [
        {
          "output_type": "stream",
          "text": [
            "[[<matplotlib.axes._subplots.AxesSubplot object at 0x7f4adebc3e48>]]\n",
            "[[<matplotlib.axes._subplots.AxesSubplot object at 0x7f4adeab5f60>]]\n",
            "[[<matplotlib.axes._subplots.AxesSubplot object at 0x7f4ade8e3cc0>]]\n"
          ],
          "name": "stdout"
        },
        {
          "output_type": "display_data",
          "data": {
            "image/png": "[encoded data removed]",
            "text/plain": [
              "<Figure size 432x288 with 1 Axes>"
            ]
          },
          "metadata": {
            "tags": []
          }
        },
        {
          "output_type": "display_data",
          "data": {
            "image/png": "[encoded data removed]",
            "text/plain": [
              "<Figure size 432x288 with 1 Axes>"
            ]
          },
          "metadata": {
            "tags": []
          }
        },
        {
          "output_type": "display_data",
          "data": {
            "image/png": "[encoded data removed]",
            "text/plain": [
              "<Figure size 432x288 with 1 Axes>"
            ]
          },
          "metadata": {
            "tags": []
          }
        }
      ]
    },
    {
      "cell_type": "markdown",
      "metadata": {
        "id": "V4BgNFgHED57",
        "colab_type": "text"
      },
      "source": [
        "All three countries have a fairly normal distribution, so we will do an ANOVA to compare their social activities within age groups."
      ]
    },
    {
      "cell_type": "code",
      "metadata": {
        "id": "JJg1RJq0A_E5",
        "colab_type": "code",
        "colab": {
          "base_uri": "https://localhost:8080/",
          "height": 100
        },
        "outputId": "9dccaf4c-daa1-4fc7-ee9d-00ff6053f43f"
      },
      "source": [
        "# Printing the means for each group.\n",
        "print('German social meeting/age mean:', dg_2014_DE['sclact'].mean())\n",
        "print('Sweden social meeting/age mean:', dg_2014_SE['sclact'].mean())\n",
        "print('Spanish social meeting/age mean:', dg_2014_ES['sclact'].mean())\n",
        "\n",
        "\n",
        "\n",
        "F, p = stats.f_oneway(\n",
        "    dg_2014_DE['sclact'],\n",
        "    dg_2014_SE['sclact'],\n",
        "    dg_2014_ES['sclact'])\n",
        "\n",
        "# The F statistic.\n",
        "print('F value:', F)\n",
        "\n",
        "# The probability. A p < .05 would lead us to believe the group means were\n",
        "# not all similar in the population.\n",
        "print('p value:', p)"
      ],
      "execution_count": 78,
      "outputs": [
        {
          "output_type": "stream",
          "text": [
            "German social meeting/age mean: 2.7142857142857144\n",
            "Sweden social meeting/age mean: 2.860955056179775\n",
            "Spanish social meeting/age mean: 2.631393298059965\n",
            "F value: 14.173258194143493\n",
            "p value: 7.782862609559521e-07\n"
          ],
          "name": "stdout"
        }
      ]
    },
    {
      "cell_type": "code",
      "metadata": {
        "id": "McaxhiRVB0O5",
        "colab_type": "code",
        "colab": {
          "base_uri": "https://localhost:8080/",
          "height": 67
        },
        "outputId": "3750cc82-67d1-4518-bcfa-dab9948fde1d"
      },
      "source": [
        "print ('Germany vs Sweden:', stats.ttest_ind(dg_2014_DE['sclact'], dg_2014_SE['sclact']))\n",
        "print ('Germany vs Spain:', stats.ttest_ind(dg_2014_DE['sclact'], dg_2014_ES['sclact']))\n",
        "print ('Spain vs Sweden:', stats.ttest_ind(dg_2014_ES['sclact'], dg_2014_SE['sclact']))"
      ],
      "execution_count": 80,
      "outputs": [
        {
          "output_type": "stream",
          "text": [
            "Germany vs Sweden: Ttest_indResult(statistic=-0.6632621751899663, pvalue=0.5073737764824289)\n",
            "Germany vs Spain: Ttest_indResult(statistic=0.32503027389966244, pvalue=0.7452174850209412)\n",
            "Spain vs Sweden: Ttest_indResult(statistic=-5.31751240602575, pvalue=1.1799291265139793e-07)\n"
          ],
          "name": "stdout"
        }
      ]
    },
    {
      "cell_type": "markdown",
      "metadata": {
        "id": "Nf0ejdK8EUIx",
        "colab_type": "text"
      },
      "source": [
        "There is no statistical difference between Germany and Sweden or Germany and Spain regarding social meetings and age groups. However Spain and Sweden are statistically significant with Spanish people claiming they gather socially less often than people of their own age compared to the more outgoing Swedish."
      ]
    }
  ]
}